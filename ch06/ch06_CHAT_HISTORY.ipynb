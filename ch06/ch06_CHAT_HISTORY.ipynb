{
 "cells": [
  {
   "cell_type": "code",
   "execution_count": 16,
   "metadata": {},
   "outputs": [],
   "source": [
    "import os\n",
    "from langchain_openai import ChatOpenAI\n",
    "from langchain_core.prompts import PromptTemplate\n",
    "from langchain_core.runnables.history import RunnableWithMessageHistory\n",
    "from langchain_community.chat_message_histories import ChatMessageHistory\n",
    "from langchain_core.tracers.stdout import ConsoleCallbackHandler"
   ]
  },
  {
   "cell_type": "code",
   "execution_count": 17,
   "metadata": {},
   "outputs": [
    {
     "name": "stdout",
     "output_type": "stream",
     "text": [
      "세종대왕은 조선시대 4대 왕 중 한 명으로, 조선시대의 제4대 군주로 알려져 있습니다. 그의 본명은 이도이며, 세종대왕은 1418년에서 1450년 사이에 통치했습니다. 세종대왕은 조선시대의 중요한 업적을 남긴 왕으로, 특히 한글을 창제하고 과학기술, 문화, 예술 분야에서 많은 발전을 이루었습니다. 또한 세종대왕은 국가의 행정체계를 개혁하고 사회적 불평등을 해소하기 위해 노력했습니다. 그의 통치는 조선시대의 전성기를 이루는 데 큰 역할을 했습니다.\n"
     ]
    }
   ],
   "source": [
    "os.environ['OPENAI_API_KEY'] = \"여기에 API 키를 넣어주세요\"\n",
    "\n",
    "# 객체 생성\n",
    "llm = ChatOpenAI(\n",
    "    temperature=0.1, # 창의성 (0.0 ~ 2.0)\n",
    "    max_tokens=2048, # 최대 토큰수\n",
    "    model_name=\"gpt-3.5-turbo\", # 모델명\n",
    ")\n",
    "\n",
    "# 질의내용\n",
    "question = \"세종대왕이 누구인지 설명해주세요\"\n",
    "\n",
    "# 질의\n",
    "result = llm.invoke(question)\n",
    "print(result.content)"
   ]
  },
  {
   "cell_type": "code",
   "execution_count": 3,
   "metadata": {},
   "outputs": [
    {
     "name": "stdout",
     "output_type": "stream",
     "text": [
      "input_variables=['who'] input_types={} partial_variables={} template='{who}가 누구인지 설명해주세요'\n"
     ]
    }
   ],
   "source": [
    "# 질문 템플릿 형식 정의\n",
    "template = \"{who}가 누구인지 설명해주세요\"\n",
    "\n",
    "# 템플릿 완성\n",
    "prompt = PromptTemplate(\n",
    "    template=template, input_variables=['who']\n",
    ")\n",
    "print(prompt)"
   ]
  },
  {
   "cell_type": "code",
   "execution_count": 4,
   "metadata": {},
   "outputs": [
    {
     "name": "stdout",
     "output_type": "stream",
     "text": [
      "오바마가 누구인지 설명해주세요\n"
     ]
    }
   ],
   "source": [
    "print(prompt.format(who=\"오바마\"))"
   ]
  },
  {
   "cell_type": "code",
   "execution_count": 5,
   "metadata": {},
   "outputs": [
    {
     "name": "stdout",
     "output_type": "stream",
     "text": [
      "이순신 장군은 조선시대의 무신이자 해군 장군으로, 16세기 말부터 17세기 초까지 활약한 역사적 인물입니다. 이순신은 조선의 해군을 세워 조선을 외적으로부터 방어하고 일본의 침략을 막는 데 큰 역할을 했습니다. 특히, 명량 해전에서 일본의 강력한 함대를 물리치는 데 성공하여 역사상 가장 위대한 해전 중 하나로 꼽히고 있습니다. 이순신은 뛰어난 전략가로서 뿐만 아니라 용감한 전투력으로 많은 사람들에게 존경받는 인물입니다. 현재까지도 그의 업적은 많은 사람들에게 기억되고 있습니다.\n"
     ]
    }
   ],
   "source": [
    "# 연결된 체인 생성\n",
    "llm_chain = prompt | llm\n",
    "result = llm_chain.invoke({\"who\":\"이순신 장군\"})\n",
    "print(result.content)"
   ]
  },
  {
   "cell_type": "code",
   "execution_count": 7,
   "metadata": {},
   "outputs": [
    {
     "name": "stdout",
     "output_type": "stream",
     "text": [
      "\u001b[32;1m\u001b[1;3m[chain/start]\u001b[0m \u001b[1m[chain:RunnableSequence] Entering Chain run with input:\n",
      "\u001b[0m{\n",
      "  \"who\": \"이순신 장군\"\n",
      "}\n",
      "\u001b[32;1m\u001b[1;3m[chain/start]\u001b[0m \u001b[1m[chain:RunnableSequence > prompt:PromptTemplate] Entering Prompt run with input:\n",
      "\u001b[0m{\n",
      "  \"who\": \"이순신 장군\"\n",
      "}\n",
      "\u001b[36;1m\u001b[1;3m[chain/end]\u001b[0m \u001b[1m[chain:RunnableSequence > prompt:PromptTemplate] [0ms] Exiting Prompt run with output:\n",
      "\u001b[0m[outputs]\n",
      "\u001b[32;1m\u001b[1;3m[llm/start]\u001b[0m \u001b[1m[chain:RunnableSequence > llm:ChatOpenAI] Entering LLM run with input:\n",
      "\u001b[0m{\n",
      "  \"prompts\": [\n",
      "    \"Human: 이순신 장군가 누구인지 설명해주세요\"\n",
      "  ]\n",
      "}\n",
      "\u001b[36;1m\u001b[1;3m[llm/end]\u001b[0m \u001b[1m[chain:RunnableSequence > llm:ChatOpenAI] [3.29s] Exiting LLM run with output:\n",
      "\u001b[0m{\n",
      "  \"generations\": [\n",
      "    [\n",
      "      {\n",
      "        \"text\": \"이순신 장군은 조선시대의 무신이자 해군 장군으로, 16세기 말부터 17세기 초까지 활약한 역사적 인물입니다. 이순신은 조선 왕조 말기에 일본의 침략에 맞서 싸우며 일본의 대외 정책을 저지하고 조선의 해군을 강화하는 데 큰 역할을 했습니다. 특히, 이순신은 거북선을 개발하여 일본의 강력한 함대를 상대로 승리를 거두며 전쟁에서 중요한 역할을 했습니다. 이순신은 조선의 무신으로 인정받아 현재까지도 그의 업적과 뛰어난 전략가로서의 능력이 인정받고 있습니다.\",\n",
      "        \"generation_info\": {\n",
      "          \"finish_reason\": \"stop\",\n",
      "          \"logprobs\": null\n",
      "        },\n",
      "        \"type\": \"ChatGeneration\",\n",
      "        \"message\": {\n",
      "          \"lc\": 1,\n",
      "          \"type\": \"constructor\",\n",
      "          \"id\": [\n",
      "            \"langchain\",\n",
      "            \"schema\",\n",
      "            \"messages\",\n",
      "            \"AIMessage\"\n",
      "          ],\n",
      "          \"kwargs\": {\n",
      "            \"content\": \"이순신 장군은 조선시대의 무신이자 해군 장군으로, 16세기 말부터 17세기 초까지 활약한 역사적 인물입니다. 이순신은 조선 왕조 말기에 일본의 침략에 맞서 싸우며 일본의 대외 정책을 저지하고 조선의 해군을 강화하는 데 큰 역할을 했습니다. 특히, 이순신은 거북선을 개발하여 일본의 강력한 함대를 상대로 승리를 거두며 전쟁에서 중요한 역할을 했습니다. 이순신은 조선의 무신으로 인정받아 현재까지도 그의 업적과 뛰어난 전략가로서의 능력이 인정받고 있습니다.\",\n",
      "            \"additional_kwargs\": {\n",
      "              \"refusal\": null\n",
      "            },\n",
      "            \"response_metadata\": {\n",
      "              \"token_usage\": {\n",
      "                \"completion_tokens\": 256,\n",
      "                \"prompt_tokens\": 27,\n",
      "                \"total_tokens\": 283,\n",
      "                \"completion_tokens_details\": {\n",
      "                  \"reasoning_tokens\": 0\n",
      "                }\n",
      "              },\n",
      "              \"model_name\": \"gpt-3.5-turbo-0125\",\n",
      "              \"system_fingerprint\": null,\n",
      "              \"finish_reason\": \"stop\",\n",
      "              \"logprobs\": null\n",
      "            },\n",
      "            \"type\": \"ai\",\n",
      "            \"id\": \"run-ac48e8f7-21a7-482e-9dc6-10dcc1705667-0\",\n",
      "            \"usage_metadata\": {\n",
      "              \"input_tokens\": 27,\n",
      "              \"output_tokens\": 256,\n",
      "              \"total_tokens\": 283\n",
      "            },\n",
      "            \"tool_calls\": [],\n",
      "            \"invalid_tool_calls\": []\n",
      "          }\n",
      "        }\n",
      "      }\n",
      "    ]\n",
      "  ],\n",
      "  \"llm_output\": {\n",
      "    \"token_usage\": {\n",
      "      \"completion_tokens\": 256,\n",
      "      \"prompt_tokens\": 27,\n",
      "      \"total_tokens\": 283,\n",
      "      \"completion_tokens_details\": {\n",
      "        \"reasoning_tokens\": 0\n",
      "      }\n",
      "    },\n",
      "    \"model_name\": \"gpt-3.5-turbo-0125\",\n",
      "    \"system_fingerprint\": null\n",
      "  },\n",
      "  \"run\": null,\n",
      "  \"type\": \"LLMResult\"\n",
      "}\n",
      "\u001b[36;1m\u001b[1;3m[chain/end]\u001b[0m \u001b[1m[chain:RunnableSequence] [3.29s] Exiting Chain run with output:\n",
      "\u001b[0m[outputs]\n"
     ]
    }
   ],
   "source": [
    "result = llm_chain.invoke({\"who\":\"이순신 장군\"},\n",
    "                          config={\"callbacks\": [ConsoleCallbackHandler()]})"
   ]
  },
  {
   "cell_type": "code",
   "execution_count": 12,
   "metadata": {},
   "outputs": [],
   "source": [
    "# 프롬프트 템플릿 생성\n",
    "template = \"\"\"아래는 사람과 AI의 친근한 대화입니다. AI의 이름은 위키북스봇입니다. 대화 문맥을 바탕으로 친절한 답변을 진행하세요.\n",
    "\n",
    "Current Conversation:\n",
    "{history}\n",
    "\n",
    "Human: {input}\n",
    "AI:\"\"\"\n",
    "\n",
    "prompt = PromptTemplate(\n",
    "    template=template, input_variables=['history', 'input']\n",
    ")"
   ]
  },
  {
   "cell_type": "code",
   "execution_count": 13,
   "metadata": {},
   "outputs": [],
   "source": [
    "llm = ChatOpenAI(model_name=\"gpt-3.5-turbo\")\n",
    "chain = prompt | llm"
   ]
  },
  {
   "cell_type": "code",
   "execution_count": 14,
   "metadata": {},
   "outputs": [],
   "source": [
    "store = {}\n",
    "session_id = \"test\""
   ]
  },
  {
   "cell_type": "code",
   "execution_count": 15,
   "metadata": {},
   "outputs": [],
   "source": [
    "if session_id not in store:\n",
    "    store[session_id] = ChatMessageHistory()\n",
    "session_history = store[session_id]"
   ]
  },
  {
   "cell_type": "code",
   "execution_count": 19,
   "metadata": {},
   "outputs": [],
   "source": [
    "with_message_history = RunnableWithMessageHistory(\n",
    "    chain,\n",
    "    lambda session_id: session_history,\n",
    "    input_messages_key=\"input\",\n",
    "    history_messages_key=\"history\"\n",
    ")"
   ]
  },
  {
   "cell_type": "code",
   "execution_count": 20,
   "metadata": {},
   "outputs": [
    {
     "name": "stdout",
     "output_type": "stream",
     "text": [
      "안녕하세요! 저는 위키북스봇이라고 합니다. 저는 한국에서 만들어졌어요. 어떻게 도와드릴까요?\n"
     ]
    }
   ],
   "source": [
    "result = with_message_history.invoke(\n",
    "    {\"input\": \"당신은 어디에서 만들었습니까?\"},\n",
    "    config={\"configurable\": {\"session_id\": \"test\"}},\n",
    ")\n",
    "print(result.content)"
   ]
  },
  {
   "cell_type": "code",
   "execution_count": 21,
   "metadata": {},
   "outputs": [
    {
     "name": "stdout",
     "output_type": "stream",
     "text": [
      "파란 파도가 춤추는 푸른 바다,\n",
      "마음을 가라앉히는 향기로운 소나무.\n",
      "바람이 부는 소리에 귀를 기울이면,\n",
      "행복한 순간에 머무는 시간.\n"
     ]
    }
   ],
   "source": [
    "result = with_message_history.invoke(\n",
    "    {\"input\": \"푸른 바다를 주제로 감성적이고 짧은 시를 하나 지어주세요\"},\n",
    "    config={\"configurable\": {\"session_id\": \"test\"}},\n",
    ")\n",
    "print(result.content)"
   ]
  },
  {
   "cell_type": "code",
   "execution_count": 22,
   "metadata": {},
   "outputs": [
    {
     "name": "stdout",
     "output_type": "stream",
     "text": [
      "붉게 물든 하늘을 바라보며,\n",
      "얼마나 아름다운 석양인지를 느끼며,\n",
      "하루의 끝을 달래는 따뜻한 빛,\n",
      "잊을 수 없는 순간, 세상의 평화.\n"
     ]
    }
   ],
   "source": [
    "result = with_message_history.invoke(\n",
    "    {\"input\": \"석양을 주제로도 해줘\"},\n",
    "    config={\"configurable\": {\"session_id\": \"test\"}},\n",
    ")\n",
    "print(result.content)"
   ]
  },
  {
   "cell_type": "code",
   "execution_count": 23,
   "metadata": {},
   "outputs": [
    {
     "name": "stdout",
     "output_type": "stream",
     "text": [
      "{'test': InMemoryChatMessageHistory(messages=[HumanMessage(content='당신은 어디에서 만들었습니까?', additional_kwargs={}, response_metadata={}), AIMessage(content='안녕하세요! 저는 위키북스봇이라고 합니다. 저는 한국에서 만들어졌어요. 어떻게 도와드릴까요?', additional_kwargs={'refusal': None}, response_metadata={'token_usage': {'completion_tokens': 56, 'prompt_tokens': 92, 'total_tokens': 148, 'completion_tokens_details': {'reasoning_tokens': 0}}, 'model_name': 'gpt-3.5-turbo-0125', 'system_fingerprint': None, 'finish_reason': 'stop', 'logprobs': None}, id='run-44b73423-0321-4b24-a121-8ec5c2484c94-0', usage_metadata={'input_tokens': 92, 'output_tokens': 56, 'total_tokens': 148}), HumanMessage(content='푸른 바다를 주제로 감성적이고 짧은 시를 하나 지어주세요', additional_kwargs={}, response_metadata={}), AIMessage(content='파란 파도가 춤추는 푸른 바다,\\n마음을 가라앉히는 향기로운 소나무.\\n바람이 부는 소리에 귀를 기울이면,\\n행복한 순간에 머무는 시간.', additional_kwargs={'refusal': None}, response_metadata={'token_usage': {'completion_tokens': 81, 'prompt_tokens': 328, 'total_tokens': 409, 'completion_tokens_details': {'reasoning_tokens': 0}}, 'model_name': 'gpt-3.5-turbo-0125', 'system_fingerprint': None, 'finish_reason': 'stop', 'logprobs': None}, id='run-5fb054ea-94ce-4f69-91a2-1511c8971cec-0', usage_metadata={'input_tokens': 328, 'output_tokens': 81, 'total_tokens': 409}), HumanMessage(content='석양을 주제로도 해줘', additional_kwargs={}, response_metadata={}), AIMessage(content='붉게 물든 하늘을 바라보며,\\n얼마나 아름다운 석양인지를 느끼며,\\n하루의 끝을 달래는 따뜻한 빛,\\n잊을 수 없는 순간, 세상의 평화.', additional_kwargs={'refusal': None}, response_metadata={'token_usage': {'completion_tokens': 82, 'prompt_tokens': 579, 'total_tokens': 661, 'completion_tokens_details': {'reasoning_tokens': 0}}, 'model_name': 'gpt-3.5-turbo-0125', 'system_fingerprint': None, 'finish_reason': 'stop', 'logprobs': None}, id='run-41523763-4a39-4b04-9060-27be7a39aaad-0', usage_metadata={'input_tokens': 579, 'output_tokens': 82, 'total_tokens': 661})])}\n"
     ]
    }
   ],
   "source": [
    "print(store)"
   ]
  },
  {
   "cell_type": "code",
   "execution_count": null,
   "metadata": {},
   "outputs": [],
   "source": []
  }
 ],
 "metadata": {
  "kernelspec": {
   "display_name": "ch06_env",
   "language": "python",
   "name": "python3"
  },
  "language_info": {
   "codemirror_mode": {
    "name": "ipython",
    "version": 3
   },
   "file_extension": ".py",
   "mimetype": "text/x-python",
   "name": "python",
   "nbconvert_exporter": "python",
   "pygments_lexer": "ipython3",
   "version": "3.10.4"
  }
 },
 "nbformat": 4,
 "nbformat_minor": 2
}
