{
 "cells": [
  {
   "cell_type": "code",
   "execution_count": 1,
   "metadata": {},
   "outputs": [],
   "source": [
    "import os\n",
    "import urllib.request\n",
    "from langchain.document_loaders import PyPDFLoader\n",
    "from langchain.text_splitter import RecursiveCharacterTextSplitter\n",
    "from langchain.embeddings import OpenAIEmbeddings\n",
    "from langchain.vectorstores import Chroma\n",
    "from langchain.vectorstores import FAISS\n",
    "\n",
    "os.environ['OPENAI_API_KEY'] = \"여기에 API 키를 넣어주세요\""
   ]
  },
  {
   "cell_type": "code",
   "execution_count": 2,
   "metadata": {},
   "outputs": [
    {
     "data": {
      "text/plain": [
       "('2023_북한인권보고서.pdf', <http.client.HTTPMessage at 0x11a315fc0>)"
      ]
     },
     "execution_count": 2,
     "metadata": {},
     "output_type": "execute_result"
    }
   ],
   "source": [
    "urllib.request.urlretrieve(\"https://github.com/chatgpt-kr/openai-api-tutorial/raw/main/ch06/2023_%EB%B6%81%ED%95%9C%EC%9D%B8%EA%B6%8C%EB%B3%B4%EA%B3%A0%EC%84%9C.pdf\", filename=\"2023_북한인권보고서.pdf\")"
   ]
  },
  {
   "cell_type": "code",
   "execution_count": 3,
   "metadata": {},
   "outputs": [
    {
     "name": "stdout",
     "output_type": "stream",
     "text": [
      "청크의 수: 445\n"
     ]
    }
   ],
   "source": [
    "loader = PyPDFLoader('2023_북한인권보고서.pdf')\n",
    "pages = loader.load_and_split()\n",
    "print('청크의 수:', len(pages))"
   ]
  },
  {
   "cell_type": "code",
   "execution_count": 5,
   "metadata": {},
   "outputs": [],
   "source": [
    "text_splitter = RecursiveCharacterTextSplitter(chunk_size=1000, chunk_overlap=0)"
   ]
  },
  {
   "cell_type": "code",
   "execution_count": 6,
   "metadata": {},
   "outputs": [
    {
     "name": "stdout",
     "output_type": "stream",
     "text": [
      "분할된 청크의 수: 502\n"
     ]
    }
   ],
   "source": [
    "splitted_docs = text_splitter.split_documents(pages)\n",
    "print('분할된 청크의 수:', len(splitted_docs))"
   ]
  },
  {
   "cell_type": "code",
   "execution_count": 7,
   "metadata": {},
   "outputs": [
    {
     "name": "stdout",
     "output_type": "stream",
     "text": [
      "청크의 최대 길이 : 1000\n",
      "청크의 최소 길이 : 6\n",
      "청크의 평균 길이 : 745.3844621513945\n"
     ]
    }
   ],
   "source": [
    "chunks = [splitted_doc.page_content for splitted_doc in splitted_docs]\n",
    "print('청크의 최대 길이 :',max(len(chunk) for chunk in chunks))\n",
    "print('청크의 최소 길이 :',min(len(chunk) for chunk in chunks))\n",
    "print('청크의 평균 길이 :',sum(map(len, chunks))/len(chunks))"
   ]
  },
  {
   "cell_type": "code",
   "execution_count": 8,
   "metadata": {},
   "outputs": [
    {
     "name": "stderr",
     "output_type": "stream",
     "text": [
      "/var/folders/60/_7v7nlqn6z3bx_g52j1b3vhw0000gn/T/ipykernel_50921/1222124650.py:1: LangChainDeprecationWarning: The class `OpenAIEmbeddings` was deprecated in LangChain 0.0.9 and will be removed in 1.0. An updated version of the class exists in the langchain-openai package and should be used instead. To use it run `pip install -U langchain-openai` and import as `from langchain_openai import OpenAIEmbeddings`.\n",
      "  db = Chroma.from_documents(splitted_docs, OpenAIEmbeddings())\n"
     ]
    },
    {
     "name": "stdout",
     "output_type": "stream",
     "text": [
      "문서의 수: 502\n"
     ]
    }
   ],
   "source": [
    "db = Chroma.from_documents(splitted_docs, OpenAIEmbeddings())\n",
    "print('문서의 수:', db._collection.count())"
   ]
  },
  {
   "cell_type": "code",
   "execution_count": 9,
   "metadata": {},
   "outputs": [
    {
     "name": "stdout",
     "output_type": "stream",
     "text": [
      "문서의 수: 4\n"
     ]
    }
   ],
   "source": [
    "question = '북한의 교육과정'\n",
    "docs = db.similarity_search(question)\n",
    "print('문서의 수:', len(docs))"
   ]
  },
  {
   "cell_type": "code",
   "execution_count": 10,
   "metadata": {},
   "outputs": [
    {
     "name": "stdout",
     "output_type": "stream",
     "text": [
      "page_content='를\t받아\t들이는\t것으로\t보인다. \t\n",
      "309\t\t북한의\t학제는\t2012년\t전반적\t의무교육(유치원 \t1년,\t소학교\t5년,\t초급중학교 \t3년,\t고급중학교 \t3년)으로 \t\n",
      "개편되었는데,\t 학제개편 \t이전에는 \t초급중학교와 \t고급중학교를 \t통합하여 \t중학교\t6년\t과정(1972년~2011\n",
      "년)으로\t운영하였고,\t 중학교\t또는\t고등중학교라고 \t칭하였다.(통일부 \t국립통일교육원,\t 『북한의\t이해』,\t\n",
      "2022)' metadata={'page': 283, 'source': '2023_북한인권보고서.pdf'}\n",
      "--------------------\n",
      "page_content='2023 북한인권보고서40명목의 교육비용이 전가되고 있는 것으로 나타났다. 교과서는 ‘교과\n",
      "서 요금’이라는 명목으로 일정 금액을 내야하는 경우가 많으며, 교\n",
      "과서가 모든 학생에게 충분히 제공되지 않고 학년을 마치면 다음 학\n",
      "년에 교과서를 물려주어야 했다는 사례가 다수 수집되었다. 소학교\n",
      "부터 학교운영비, 꼬마계획 등의 비용을 내야했다는 진술이 꾸준히 \n",
      "수집되고 있는데, 학교시설 현대화 작업이 진행되면서 학교꾸리기 \n",
      "비용이 증가했다고 한다. 학교에서 요구하는 돈이나 물품은 교원에 \n",
      "의해 사실상 강제되고 있었는데, 비용을 내지 못하는 경우 동급생들 \n",
      "앞에서 망신을 주거나 비판하여 형편이 어려운 학생들은 학교를 그\n",
      "만두는 선택을 하는 경우가 많다고 한다. 또한 도시와 농촌 간 교육\n",
      "환경의 차이가 크며 대학입학에서 출신성분에 의한 차별이 있고, 교\n",
      "육기회의 제공에도 경제력이 영향을 미치고 있어 성분·지역·경제\n",
      "력에 따른 차별이 존재하는 것으로 나타났다. 교육환경도 열악한데, \n",
      "학교시설의 현대화 작업에도 불구하고 양호실, 도서관, 위생시설이 \n",
      "없는 학교도 많은 것으로 보인다. 교원에 대한 경제적 보상도 적절\n",
      "히 이루어지지 않아, 교원들은 생계를 유지하기 위해 잘사는 학부모\n",
      "의 원조를 받거나 자신의 텃밭에 학생을 동원시키고 있어 학생들은 \n",
      "제대로 된 교육여건을 보장받지 못하고 있는 것으로 나타났다. 또\n",
      "한, 일반교육보다 정치사상교육을 앞세우고 있으며 교과과정에 실\n",
      "탄사격을 하는 군사훈련을 편성하여 학생들을 의무적으로 참석하게 \n",
      "하고 있다.\n",
      "북한의 사회보장 제도로는 연로연금, 노동능력상실 연금, 유가족 \n",
      "연금 등 생계가 결핍된 경우 기초적인 생계를 보장하기 위한 연금제\n",
      "도가 있으며, 사회보험금의 성격을 지닌 보조금 제도가 있다. 연로' metadata={'page': 41, 'source': '2023_북한인권보고서.pdf'}\n",
      "--------------------\n",
      "page_content='2023 북한인권보고서344이 되려면 별도로 돈을 더 내야 합니다. 그 돈을 받아 교사들이 생\n",
      "활하기 때문에 학교생활 자체가 그 아이들을 중심으로 돌아갑니다. \n",
      "공부도 열성자들만 대상으로 특별과외 등 형식으로 추가로 더 가르\n",
      "쳐 주기 때문에 학습진도가 일반 학생들 보다 빠릅니다. 수업도 이\n",
      "들을 중심으로 하다 보니 일반 학생들은 진도를 따라가지 못하고 \n",
      "그저 자리만 채울 뿐입니다. 그리고 담임이 툭하면 ‘못사는 것들은 \n",
      "배울 필요도 없다고 하면서 개가 되어 똥이나 치우고 살아라’는 식\n",
      "으로 말했습니다. 저희 담임뿐만 아니라 학교 자체에서 그런 식의 \n",
      "차별을 당연시 했습니다.”\n",
      "(3) 지역 간 교육 불평등 \n",
      "북한은 2019년에 제출한 제3차 UPR 보고서에서 중등교육에 있\n",
      "어 도시와 시골 지역의 구분을 없애기 위해 특별한 주의를 기울이고 \n",
      "있다고 언급하며, 훌륭한 교육 여건과 환경을 갖춘 시범학교로 변모\n",
      "한 사례를 다른 시골 학교에 일반화하고자 노력하고 있다고 보고하\n",
      "였다.343 동보고서에서 북한은 유능한 교사와 교원연구원 강사들이 \n",
      "시골 학교 교사의 교수 능력을 향상시키는 임무도 담당하고 있다고 \n",
      "하였다.344 \n",
      "북한에서는 시내 지역과 시골 지역 간에 교육 불평등이 존재하는 \n",
      "것으로 나타났다. 시내에 있는 학교에서 시골에 있는 학교로 전학을 \n",
      "간 적이 있다는 증언자의 진술에 따르면 교육시설이나 교원의 수준\n",
      "에서 차이가 컸다고 한다. 시내 학교에 비해 시골학교는 규모도 작\n",
      "고 현대화 작업이 되어 있지 않아 낙후되어 있었으며, 교원들도 정\n",
      "343\t\tUN\tDoc.\tA/HRC/WG.6/33/PRK/1 \t(2019),\tpara.\t46.\t\n",
      "344\t Ibid.,\tpara.\t46.' metadata={'page': 345, 'source': '2023_북한인권보고서.pdf'}\n",
      "--------------------\n",
      "page_content='2023 북한인권보고서3422018년에 학교에서 추천하여 소년궁전 스키부에 선발되었으나, 체\n",
      "육종합지도원이 자신의 출신성분이 좋지 않다는 이유로 선발명단에\n",
      "서 자신을 제외했다고 진술하였다. 정치범수용소에서는 이주민 자\n",
      "녀의 경우 정규교육과정을 받지 못한다는 증언도 있었다. 정치범수\n",
      "용소에도 소학교와 중학교가 있지만 일반 학교와는 달리 학생들이 \n",
      "책가방 대신 지게를 지고 출석하고 학교에서 농사짓는 법에 대해 배\n",
      "운다고 한다. \n",
      "북한에서는 대학 진학 시에도 출신성분에 따른 차별이 존재하는 \n",
      "것으로 나타났다. 한 증언자는 2019년에 고급중학교를 졸업하고 대\n",
      "학에 진학하려고 했는데, 본인 문건에 어머니가 행방불명으로 되어 \n",
      "있어 출신성분이 나쁘다는 이유로 대학에 진학할 수 없었다고 한다. \n",
      "이러한 차별행위는 교육부의 정책에 따른 것이라고 한다. 다른 증\n",
      "언자는 2018년에 의학대학에 진학하고 싶었는데, 교육과장과 면담\n",
      "하는 과정에서 ‘어머니가 행방불명이라 너 같은 아이는 대학에 가기 \n",
      "어렵다.’는 이야기를 듣고 대학 진학을 포기했다고 한다. 중학교 졸\n",
      "업 후 농민의 자식이라는 이유로 일반 대학뿐만 아니라 공업전문학\n",
      "교도 진학할 수 없었다는 증언도 있었다. \n",
      " \n",
      "(2) 경제력에 따른 차별 \n",
      "북한에서는 교육기회에 있어 경제력에 따른 차별이 존재하는 것\n",
      "으로 보인다. 수집된 증언에 따르면 무상교육제가 유명무실해진 상\n",
      "황에서 교육비 부담으로 경제적 취약계층의 아동들이 장기간 결석하\n",
      "거나 중도에 학교를 그만두는 것으로 나타났다. 한 증언자는 2018년\n",
      "에 아들이 소학교 학생이었는데, 당시 학급 정원의 25% 정도가 경제' metadata={'page': 343, 'source': '2023_북한인권보고서.pdf'}\n",
      "--------------------\n"
     ]
    }
   ],
   "source": [
    "for doc in docs:\n",
    "    print(doc)\n",
    "    print('--' * 10)"
   ]
  },
  {
   "cell_type": "code",
   "execution_count": 11,
   "metadata": {},
   "outputs": [
    {
     "name": "stdout",
     "output_type": "stream",
     "text": [
      "문서의 수: 502\n"
     ]
    }
   ],
   "source": [
    "db_to_file = Chroma.from_documents(splitted_docs, OpenAIEmbeddings(),\n",
    "                                   persist_directory = './chroma_test.db')\n",
    "print('문서의 수:', db_to_file._collection.count())"
   ]
  },
  {
   "cell_type": "code",
   "execution_count": 12,
   "metadata": {},
   "outputs": [
    {
     "name": "stdout",
     "output_type": "stream",
     "text": [
      "문서의 수: 502\n"
     ]
    },
    {
     "name": "stderr",
     "output_type": "stream",
     "text": [
      "/var/folders/60/_7v7nlqn6z3bx_g52j1b3vhw0000gn/T/ipykernel_50921/2367151211.py:1: LangChainDeprecationWarning: The class `Chroma` was deprecated in LangChain 0.2.9 and will be removed in 1.0. An updated version of the class exists in the langchain-chroma package and should be used instead. To use it run `pip install -U langchain-chroma` and import as `from langchain_chroma import Chroma`.\n",
      "  db_from_file = Chroma(persist_directory='./chroma_test.db',\n"
     ]
    }
   ],
   "source": [
    "db_from_file = Chroma(persist_directory='./chroma_test.db',\n",
    "                      embedding_function=OpenAIEmbeddings())\n",
    "print('문서의 수:', db_from_file._collection.count())"
   ]
  },
  {
   "cell_type": "code",
   "execution_count": 13,
   "metadata": {},
   "outputs": [
    {
     "name": "stdout",
     "output_type": "stream",
     "text": [
      "(Document(metadata={'page': 283, 'source': '2023_북한인권보고서.pdf'}, page_content='를\\t받아\\t들이는\\t것으로\\t보인다. \\t\\n309\\t\\t북한의\\t학제는\\t2012년\\t전반적\\t의무교육(유치원 \\t1년,\\t소학교\\t5년,\\t초급중학교 \\t3년,\\t고급중학교 \\t3년)으로 \\t\\n개편되었는데,\\t 학제개편 \\t이전에는 \\t초급중학교와 \\t고급중학교를 \\t통합하여 \\t중학교\\t6년\\t과정(1972년~2011\\n년)으로\\t운영하였고,\\t 중학교\\t또는\\t고등중학교라고 \\t칭하였다.(통일부 \\t국립통일교육원,\\t 『북한의\\t이해』,\\t\\n2022)'), 0.8302666120719884)\n",
      "--------------------\n",
      "(Document(metadata={'page': 41, 'source': '2023_북한인권보고서.pdf'}, page_content='2023 북한인권보고서40명목의 교육비용이 전가되고 있는 것으로 나타났다. 교과서는 ‘교과\\n서 요금’이라는 명목으로 일정 금액을 내야하는 경우가 많으며, 교\\n과서가 모든 학생에게 충분히 제공되지 않고 학년을 마치면 다음 학\\n년에 교과서를 물려주어야 했다는 사례가 다수 수집되었다. 소학교\\n부터 학교운영비, 꼬마계획 등의 비용을 내야했다는 진술이 꾸준히 \\n수집되고 있는데, 학교시설 현대화 작업이 진행되면서 학교꾸리기 \\n비용이 증가했다고 한다. 학교에서 요구하는 돈이나 물품은 교원에 \\n의해 사실상 강제되고 있었는데, 비용을 내지 못하는 경우 동급생들 \\n앞에서 망신을 주거나 비판하여 형편이 어려운 학생들은 학교를 그\\n만두는 선택을 하는 경우가 많다고 한다. 또한 도시와 농촌 간 교육\\n환경의 차이가 크며 대학입학에서 출신성분에 의한 차별이 있고, 교\\n육기회의 제공에도 경제력이 영향을 미치고 있어 성분·지역·경제\\n력에 따른 차별이 존재하는 것으로 나타났다. 교육환경도 열악한데, \\n학교시설의 현대화 작업에도 불구하고 양호실, 도서관, 위생시설이 \\n없는 학교도 많은 것으로 보인다. 교원에 대한 경제적 보상도 적절\\n히 이루어지지 않아, 교원들은 생계를 유지하기 위해 잘사는 학부모\\n의 원조를 받거나 자신의 텃밭에 학생을 동원시키고 있어 학생들은 \\n제대로 된 교육여건을 보장받지 못하고 있는 것으로 나타났다. 또\\n한, 일반교육보다 정치사상교육을 앞세우고 있으며 교과과정에 실\\n탄사격을 하는 군사훈련을 편성하여 학생들을 의무적으로 참석하게 \\n하고 있다.\\n북한의 사회보장 제도로는 연로연금, 노동능력상실 연금, 유가족 \\n연금 등 생계가 결핍된 경우 기초적인 생계를 보장하기 위한 연금제\\n도가 있으며, 사회보험금의 성격을 지닌 보조금 제도가 있다. 연로'), 0.8294027175813485)\n",
      "--------------------\n",
      "(Document(metadata={'page': 345, 'source': '2023_북한인권보고서.pdf'}, page_content='2023 북한인권보고서344이 되려면 별도로 돈을 더 내야 합니다. 그 돈을 받아 교사들이 생\\n활하기 때문에 학교생활 자체가 그 아이들을 중심으로 돌아갑니다. \\n공부도 열성자들만 대상으로 특별과외 등 형식으로 추가로 더 가르\\n쳐 주기 때문에 학습진도가 일반 학생들 보다 빠릅니다. 수업도 이\\n들을 중심으로 하다 보니 일반 학생들은 진도를 따라가지 못하고 \\n그저 자리만 채울 뿐입니다. 그리고 담임이 툭하면 ‘못사는 것들은 \\n배울 필요도 없다고 하면서 개가 되어 똥이나 치우고 살아라’는 식\\n으로 말했습니다. 저희 담임뿐만 아니라 학교 자체에서 그런 식의 \\n차별을 당연시 했습니다.”\\n(3) 지역 간 교육 불평등 \\n북한은 2019년에 제출한 제3차 UPR 보고서에서 중등교육에 있\\n어 도시와 시골 지역의 구분을 없애기 위해 특별한 주의를 기울이고 \\n있다고 언급하며, 훌륭한 교육 여건과 환경을 갖춘 시범학교로 변모\\n한 사례를 다른 시골 학교에 일반화하고자 노력하고 있다고 보고하\\n였다.343 동보고서에서 북한은 유능한 교사와 교원연구원 강사들이 \\n시골 학교 교사의 교수 능력을 향상시키는 임무도 담당하고 있다고 \\n하였다.344 \\n북한에서는 시내 지역과 시골 지역 간에 교육 불평등이 존재하는 \\n것으로 나타났다. 시내에 있는 학교에서 시골에 있는 학교로 전학을 \\n간 적이 있다는 증언자의 진술에 따르면 교육시설이나 교원의 수준\\n에서 차이가 컸다고 한다. 시내 학교에 비해 시골학교는 규모도 작\\n고 현대화 작업이 되어 있지 않아 낙후되어 있었으며, 교원들도 정\\n343\\t\\tUN\\tDoc.\\tA/HRC/WG.6/33/PRK/1 \\t(2019),\\tpara.\\t46.\\t\\n344\\t Ibid.,\\tpara.\\t46.'), 0.8267133377145804)\n",
      "--------------------\n"
     ]
    }
   ],
   "source": [
    "question = '북한의 교육 과정'\n",
    "top_three_docs = db_from_file.similarity_search_with_relevance_scores(question, \n",
    "                                                                      k=3)\n",
    "for doc in top_three_docs:\n",
    "    print(doc)\n",
    "    print('--' * 10)"
   ]
  },
  {
   "cell_type": "code",
   "execution_count": 14,
   "metadata": {},
   "outputs": [
    {
     "name": "stdout",
     "output_type": "stream",
     "text": [
      "문서의 수: 502\n"
     ]
    }
   ],
   "source": [
    "faiss_db = FAISS.from_documents(splitted_docs, OpenAIEmbeddings())\n",
    "print('문서의 수:', faiss_db.index.ntotal)"
   ]
  },
  {
   "cell_type": "code",
   "execution_count": 16,
   "metadata": {},
   "outputs": [],
   "source": [
    "faiss_db.save_local('faiss_index')\n",
    "\n",
    "new_db_faiss = FAISS.load_local('faiss_index',\n",
    "                                OpenAIEmbeddings(),\n",
    "                                allow_dangerous_deserialization=True)"
   ]
  },
  {
   "cell_type": "code",
   "execution_count": 17,
   "metadata": {},
   "outputs": [
    {
     "name": "stdout",
     "output_type": "stream",
     "text": [
      "page_content='를\t받아\t들이는\t것으로\t보인다. \t\n",
      "309\t\t북한의\t학제는\t2012년\t전반적\t의무교육(유치원 \t1년,\t소학교\t5년,\t초급중학교 \t3년,\t고급중학교 \t3년)으로 \t\n",
      "개편되었는데,\t 학제개편 \t이전에는 \t초급중학교와 \t고급중학교를 \t통합하여 \t중학교\t6년\t과정(1972년~2011\n",
      "년)으로\t운영하였고,\t 중학교\t또는\t고등중학교라고 \t칭하였다.(통일부 \t국립통일교육원,\t 『북한의\t이해』,\t\n",
      "2022)' metadata={'source': '2023_북한인권보고서.pdf', 'page': 283}\n",
      "--------------------\n",
      "page_content='2023 북한인권보고서40명목의 교육비용이 전가되고 있는 것으로 나타났다. 교과서는 ‘교과\n",
      "서 요금’이라는 명목으로 일정 금액을 내야하는 경우가 많으며, 교\n",
      "과서가 모든 학생에게 충분히 제공되지 않고 학년을 마치면 다음 학\n",
      "년에 교과서를 물려주어야 했다는 사례가 다수 수집되었다. 소학교\n",
      "부터 학교운영비, 꼬마계획 등의 비용을 내야했다는 진술이 꾸준히 \n",
      "수집되고 있는데, 학교시설 현대화 작업이 진행되면서 학교꾸리기 \n",
      "비용이 증가했다고 한다. 학교에서 요구하는 돈이나 물품은 교원에 \n",
      "의해 사실상 강제되고 있었는데, 비용을 내지 못하는 경우 동급생들 \n",
      "앞에서 망신을 주거나 비판하여 형편이 어려운 학생들은 학교를 그\n",
      "만두는 선택을 하는 경우가 많다고 한다. 또한 도시와 농촌 간 교육\n",
      "환경의 차이가 크며 대학입학에서 출신성분에 의한 차별이 있고, 교\n",
      "육기회의 제공에도 경제력이 영향을 미치고 있어 성분·지역·경제\n",
      "력에 따른 차별이 존재하는 것으로 나타났다. 교육환경도 열악한데, \n",
      "학교시설의 현대화 작업에도 불구하고 양호실, 도서관, 위생시설이 \n",
      "없는 학교도 많은 것으로 보인다. 교원에 대한 경제적 보상도 적절\n",
      "히 이루어지지 않아, 교원들은 생계를 유지하기 위해 잘사는 학부모\n",
      "의 원조를 받거나 자신의 텃밭에 학생을 동원시키고 있어 학생들은 \n",
      "제대로 된 교육여건을 보장받지 못하고 있는 것으로 나타났다. 또\n",
      "한, 일반교육보다 정치사상교육을 앞세우고 있으며 교과과정에 실\n",
      "탄사격을 하는 군사훈련을 편성하여 학생들을 의무적으로 참석하게 \n",
      "하고 있다.\n",
      "북한의 사회보장 제도로는 연로연금, 노동능력상실 연금, 유가족 \n",
      "연금 등 생계가 결핍된 경우 기초적인 생계를 보장하기 위한 연금제\n",
      "도가 있으며, 사회보험금의 성격을 지닌 보조금 제도가 있다. 연로' metadata={'source': '2023_북한인권보고서.pdf', 'page': 41}\n",
      "--------------------\n",
      "page_content='2023 북한인권보고서344이 되려면 별도로 돈을 더 내야 합니다. 그 돈을 받아 교사들이 생\n",
      "활하기 때문에 학교생활 자체가 그 아이들을 중심으로 돌아갑니다. \n",
      "공부도 열성자들만 대상으로 특별과외 등 형식으로 추가로 더 가르\n",
      "쳐 주기 때문에 학습진도가 일반 학생들 보다 빠릅니다. 수업도 이\n",
      "들을 중심으로 하다 보니 일반 학생들은 진도를 따라가지 못하고 \n",
      "그저 자리만 채울 뿐입니다. 그리고 담임이 툭하면 ‘못사는 것들은 \n",
      "배울 필요도 없다고 하면서 개가 되어 똥이나 치우고 살아라’는 식\n",
      "으로 말했습니다. 저희 담임뿐만 아니라 학교 자체에서 그런 식의 \n",
      "차별을 당연시 했습니다.”\n",
      "(3) 지역 간 교육 불평등 \n",
      "북한은 2019년에 제출한 제3차 UPR 보고서에서 중등교육에 있\n",
      "어 도시와 시골 지역의 구분을 없애기 위해 특별한 주의를 기울이고 \n",
      "있다고 언급하며, 훌륭한 교육 여건과 환경을 갖춘 시범학교로 변모\n",
      "한 사례를 다른 시골 학교에 일반화하고자 노력하고 있다고 보고하\n",
      "였다.343 동보고서에서 북한은 유능한 교사와 교원연구원 강사들이 \n",
      "시골 학교 교사의 교수 능력을 향상시키는 임무도 담당하고 있다고 \n",
      "하였다.344 \n",
      "북한에서는 시내 지역과 시골 지역 간에 교육 불평등이 존재하는 \n",
      "것으로 나타났다. 시내에 있는 학교에서 시골에 있는 학교로 전학을 \n",
      "간 적이 있다는 증언자의 진술에 따르면 교육시설이나 교원의 수준\n",
      "에서 차이가 컸다고 한다. 시내 학교에 비해 시골학교는 규모도 작\n",
      "고 현대화 작업이 되어 있지 않아 낙후되어 있었으며, 교원들도 정\n",
      "343\t\tUN\tDoc.\tA/HRC/WG.6/33/PRK/1 \t(2019),\tpara.\t46.\t\n",
      "344\t Ibid.,\tpara.\t46.' metadata={'source': '2023_북한인권보고서.pdf', 'page': 345}\n",
      "--------------------\n",
      "page_content='2023 북한인권보고서3422018년에 학교에서 추천하여 소년궁전 스키부에 선발되었으나, 체\n",
      "육종합지도원이 자신의 출신성분이 좋지 않다는 이유로 선발명단에\n",
      "서 자신을 제외했다고 진술하였다. 정치범수용소에서는 이주민 자\n",
      "녀의 경우 정규교육과정을 받지 못한다는 증언도 있었다. 정치범수\n",
      "용소에도 소학교와 중학교가 있지만 일반 학교와는 달리 학생들이 \n",
      "책가방 대신 지게를 지고 출석하고 학교에서 농사짓는 법에 대해 배\n",
      "운다고 한다. \n",
      "북한에서는 대학 진학 시에도 출신성분에 따른 차별이 존재하는 \n",
      "것으로 나타났다. 한 증언자는 2019년에 고급중학교를 졸업하고 대\n",
      "학에 진학하려고 했는데, 본인 문건에 어머니가 행방불명으로 되어 \n",
      "있어 출신성분이 나쁘다는 이유로 대학에 진학할 수 없었다고 한다. \n",
      "이러한 차별행위는 교육부의 정책에 따른 것이라고 한다. 다른 증\n",
      "언자는 2018년에 의학대학에 진학하고 싶었는데, 교육과장과 면담\n",
      "하는 과정에서 ‘어머니가 행방불명이라 너 같은 아이는 대학에 가기 \n",
      "어렵다.’는 이야기를 듣고 대학 진학을 포기했다고 한다. 중학교 졸\n",
      "업 후 농민의 자식이라는 이유로 일반 대학뿐만 아니라 공업전문학\n",
      "교도 진학할 수 없었다는 증언도 있었다. \n",
      " \n",
      "(2) 경제력에 따른 차별 \n",
      "북한에서는 교육기회에 있어 경제력에 따른 차별이 존재하는 것\n",
      "으로 보인다. 수집된 증언에 따르면 무상교육제가 유명무실해진 상\n",
      "황에서 교육비 부담으로 경제적 취약계층의 아동들이 장기간 결석하\n",
      "거나 중도에 학교를 그만두는 것으로 나타났다. 한 증언자는 2018년\n",
      "에 아들이 소학교 학생이었는데, 당시 학급 정원의 25% 정도가 경제' metadata={'source': '2023_북한인권보고서.pdf', 'page': 343}\n",
      "--------------------\n"
     ]
    }
   ],
   "source": [
    "question = '북한의 교육 과정'\n",
    "docs = new_db_faiss.similarity_search(question)\n",
    "\n",
    "for doc in docs:\n",
    "    print(doc)\n",
    "    print('--' * 10)"
   ]
  },
  {
   "cell_type": "code",
   "execution_count": null,
   "metadata": {},
   "outputs": [],
   "source": []
  }
 ],
 "metadata": {
  "kernelspec": {
   "display_name": "ch06_env",
   "language": "python",
   "name": "python3"
  },
  "language_info": {
   "codemirror_mode": {
    "name": "ipython",
    "version": 3
   },
   "file_extension": ".py",
   "mimetype": "text/x-python",
   "name": "python",
   "nbconvert_exporter": "python",
   "pygments_lexer": "ipython3",
   "version": "3.10.4"
  }
 },
 "nbformat": 4,
 "nbformat_minor": 2
}
