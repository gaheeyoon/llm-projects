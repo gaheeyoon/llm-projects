{
 "cells": [
  {
   "cell_type": "code",
   "execution_count": 2,
   "metadata": {},
   "outputs": [],
   "source": [
    "import urllib.request\n",
    "from langchain.document_loaders import PyPDFLoader\n",
    "from langchain_community.document_loaders import PyMuPDFLoader\n",
    "from langchain.document_loaders import PDFPlumberLoader"
   ]
  },
  {
   "cell_type": "code",
   "execution_count": 4,
   "metadata": {},
   "outputs": [
    {
     "data": {
      "text/plain": [
       "('2023_북한인권보고서.pdf', <http.client.HTTPMessage at 0x1111d66e0>)"
      ]
     },
     "execution_count": 4,
     "metadata": {},
     "output_type": "execute_result"
    }
   ],
   "source": [
    "urllib.request.urlretrieve(\"https://github.com/chatgpt-kr/openai-api-tutorial/raw/main/ch06/2023_%EB%B6%81%ED%95%9C%EC%9D%B8%EA%B6%8C%EB%B3%B4%EA%B3%A0%EC%84%9C.pdf\", filename=\"2023_북한인권보고서.pdf\")"
   ]
  },
  {
   "cell_type": "code",
   "execution_count": 5,
   "metadata": {},
   "outputs": [
    {
     "name": "stdout",
     "output_type": "stream",
     "text": [
      "청크의 수: 445\n",
      "CPU times: user 11.6 s, sys: 66.7 ms, total: 11.7 s\n",
      "Wall time: 12.6 s\n"
     ]
    }
   ],
   "source": [
    "%%time\n",
    "loader = PyPDFLoader('2023_북한인권보고서.pdf')\n",
    "pages = loader.load_and_split()\n",
    "print('청크의 수:', len(pages))"
   ]
  },
  {
   "cell_type": "code",
   "execution_count": 6,
   "metadata": {},
   "outputs": [
    {
     "data": {
      "text/plain": [
       "Document(metadata={'source': '2023_북한인권보고서.pdf', 'page': 5}, page_content='2023 북한인권보고서04올해로 유엔의 북한인권조사위원회 출범 10년, 북한인권결의 채\\n택 20년이 됩니다. 그동안 우리는 물론 국제사회가 북한인권을 증진\\n하기 위해 노력해 왔지만, 휴전선 이북의 북녘 땅은 여전히 최악의 \\n인권 사각지대로 남아 있습니다. 우리와 피를 나눈 북한 동포들이 \\n최소한의 인간적인 삶을 누릴 수 있도록 책임감을 갖고 보다 실효적\\n인 노력을 펼쳐가야만 합니다. \\n2016년 제정된 북한인권법에 기반하여 설립된 북한인권기록센\\n터는 2017년부터 북한이탈주민을 대상으로 북한의 전반적인 인권\\n실태를 심층적으로 조사하였습니다. 또한 파악된 북한의 인권침해 \\n사례들을 ‘세계인권선언’과 ‘국제인권조약’의 기준에 따라 분류하였\\n습니다. 이번에 발간되는 「북한인권보고서」는 북한의 인권 상황을 \\n시민적·정치적 권리, 경제적·사회적·문화적 권리 등 다양한 측면에\\n서 입체적으로 조명하였습니다. 아울러, 여성·아동·장애인 등 취약\\n계층, 정치범수용소 및 국군포로·납북자·이산가족 등 특수 인권문발간사')"
      ]
     },
     "execution_count": 6,
     "metadata": {},
     "output_type": "execute_result"
    }
   ],
   "source": [
    "pages[3]"
   ]
  },
  {
   "cell_type": "code",
   "execution_count": 7,
   "metadata": {},
   "outputs": [
    {
     "name": "stdout",
     "output_type": "stream",
     "text": [
      "청크의 수: 445\n",
      "CPU times: user 1.95 s, sys: 531 ms, total: 2.48 s\n",
      "Wall time: 4.33 s\n"
     ]
    }
   ],
   "source": [
    "%%time\n",
    "loader = PyMuPDFLoader('2023_북한인권보고서.pdf')\n",
    "pages = loader.load_and_split()\n",
    "print('청크의 수:', len(pages))"
   ]
  },
  {
   "cell_type": "code",
   "execution_count": 8,
   "metadata": {},
   "outputs": [
    {
     "data": {
      "text/plain": [
       "Document(metadata={'source': '2023_북한인권보고서.pdf', 'file_path': '2023_북한인권보고서.pdf', 'page': 5, 'total_pages': 448, 'format': 'PDF 1.6', 'title': '', 'author': '', 'subject': '', 'keywords': '', 'creator': 'Adobe InDesign CS6 (Windows)', 'producer': 'Adobe PDF Library 10.0.1', 'creationDate': \"D:20230731135027+09'00'\", 'modDate': \"D:20230731135754+09'00'\", 'trapped': ''}, page_content='2023 북한인권보고서\\n04\\n올해로 유엔의 북한인권조사위원회 출범 10년, 북한인권결의 채\\n택 20년이 됩니다. 그동안 우리는 물론 국제사회가 북한인권을 증진\\n하기 위해 노력해 왔지만, 휴전선 이북의 북녘 땅은 여전히 최악의 \\n인권 사각지대로 남아 있습니다. 우리와 피를 나눈 북한 동포들이 \\n최소한의 인간적인 삶을 누릴 수 있도록 책임감을 갖고 보다 실효적\\n인 노력을 펼쳐가야만 합니다. \\n2016년 제정된 북한인권법에 기반하여 설립된 북한인권기록센\\n터는 2017년부터 북한이탈주민을 대상으로 북한의 전반적인 인권\\n실태를 심층적으로 조사하였습니다. 또한 파악된 북한의 인권침해 \\n사례들을 ‘세계인권선언’과 ‘국제인권조약’의 기준에 따라 분류하였\\n습니다. 이번에 발간되는 「북한인권보고서」는 북한의 인권 상황을 \\n시민적·정치적 권리, 경제적·사회적·문화적 권리 등 다양한 측면에\\n서 입체적으로 조명하였습니다. 아울러, 여성·아동·장애인 등 취약\\n계층, 정치범수용소 및 국군포로·납북자·이산가족 등 특수 인권문\\n발간사')"
      ]
     },
     "execution_count": 8,
     "metadata": {},
     "output_type": "execute_result"
    }
   ],
   "source": [
    "pages[3]"
   ]
  },
  {
   "cell_type": "code",
   "execution_count": 9,
   "metadata": {},
   "outputs": [
    {
     "name": "stdout",
     "output_type": "stream",
     "text": [
      "청크의 수: 445\n",
      "CPU times: user 23.9 s, sys: 436 ms, total: 24.3 s\n",
      "Wall time: 24.4 s\n"
     ]
    }
   ],
   "source": [
    "%%time\n",
    "loader = PDFPlumberLoader('2023_북한인권보고서.pdf')\n",
    "pages = loader.load_and_split()\n",
    "print('청크의 수:', len(pages))"
   ]
  },
  {
   "cell_type": "code",
   "execution_count": 10,
   "metadata": {},
   "outputs": [
    {
     "data": {
      "text/plain": [
       "Document(metadata={'source': '2023_북한인권보고서.pdf', 'file_path': '2023_북한인권보고서.pdf', 'page': 5, 'total_pages': 448, 'CreationDate': \"D:20230731135027+09'00'\", 'Creator': 'Adobe InDesign CS6 (Windows)', 'ModDate': \"D:20230731135754+09'00'\", 'Producer': 'Adobe PDF Library 10.0.1', 'Trapped': 'False'}, page_content='발간사\\n올해로 유엔의 북한인권조사위원회 출범 10년, 북한인권결의 채\\n택 20년이 됩니다. 그동안 우리는 물론 국제사회가 북한인권을 증진\\n하기 위해 노력해 왔지만, 휴전선 이북의 북녘 땅은 여전히 최악의\\n인권 사각지대로 남아 있습니다. 우리와 피를 나눈 북한 동포들이\\n최소한의 인간적인 삶을 누릴 수 있도록 책임감을 갖고 보다 실효적\\n인 노력을 펼쳐가야만 합니다.\\n2016년 제정된 북한인권법에 기반하여 설립된 북한인권기록센\\n터는 2017년부터 북한이탈주민을 대상으로 북한의 전반적인 인권\\n실태를 심층적으로 조사하였습니다. 또한 파악된 북한의 인권침해\\n사례들을 ‘세계인권선언’과 ‘국제인권조약’의 기준에 따라 분류하였\\n습니다. 이번에 발간되는 「북한인권보고서」는 북한의 인권 상황을\\n시민적·정치적 권리, 경제적·사회적·문화적 권리 등 다양한 측면에\\n서 입체적으로 조명하였습니다. 아울러, 여성·아동·장애인 등 취약\\n계층, 정치범수용소 및 국군포로·납북자·이산가족 등 특수 인권문\\n04 2023 북한인권보고서')"
      ]
     },
     "execution_count": 10,
     "metadata": {},
     "output_type": "execute_result"
    }
   ],
   "source": [
    "pages[3]"
   ]
  },
  {
   "cell_type": "code",
   "execution_count": null,
   "metadata": {},
   "outputs": [],
   "source": []
  }
 ],
 "metadata": {
  "kernelspec": {
   "display_name": "ch06_env",
   "language": "python",
   "name": "python3"
  },
  "language_info": {
   "codemirror_mode": {
    "name": "ipython",
    "version": 3
   },
   "file_extension": ".py",
   "mimetype": "text/x-python",
   "name": "python",
   "nbconvert_exporter": "python",
   "pygments_lexer": "ipython3",
   "version": "3.10.4"
  }
 },
 "nbformat": 4,
 "nbformat_minor": 2
}
