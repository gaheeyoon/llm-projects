{
 "cells": [
  {
   "cell_type": "code",
   "execution_count": 8,
   "metadata": {},
   "outputs": [],
   "source": [
    "import openai"
   ]
  },
  {
   "cell_type": "code",
   "execution_count": 9,
   "metadata": {},
   "outputs": [],
   "source": [
    "client = openai.OpenAI(api_key = \"API 키 입력\")"
   ]
  },
  {
   "cell_type": "code",
   "execution_count": 3,
   "metadata": {},
   "outputs": [],
   "source": [
    "response = client.chat.completions.create(\n",
    "    model=\"gpt-4o-mini\",\n",
    "    messages=[{\"role\": \"user\", \"content\": \"프롬프트 입력\"}],\n",
    "    temperature=1,\n",
    "    top_p=1,\n",
    "    presence_penalty=1,\n",
    "    frequency_penalty=1,\n",
    "    n=1,\n",
    "    max_tokens=4000,\n",
    "    stop=None,\n",
    "    seed=None,\n",
    "    tools=None,\n",
    "    tool_choice=None,\n",
    "    response_format=None\n",
    ")"
   ]
  },
  {
   "cell_type": "code",
   "execution_count": 4,
   "metadata": {},
   "outputs": [
    {
     "name": "stdout",
     "output_type": "stream",
     "text": [
      "ChatCompletion(id='chatcmpl-A6bZFjh4euAG19xBgbwQYrrkfVtIo', choices=[Choice(finish_reason='stop', index=0, logprobs=None, message=ChatCompletionMessage(content='Making a pizza from scratch can be a fun and rewarding experience! Here’s a simple step-by-step guide to making a delicious homemade pizza:\\n\\n### Ingredients\\n\\n#### For the Dough:\\n- 2 ¼ tsp active dry yeast (1 packet)\\n- 1 ½ cups warm water (about 110°F or 43°C)\\n- 3 ½ to 4 cups all-purpose flour\\n- 2 tbsp olive oil\\n- 1 tsp sugar\\n- 1 tsp salt\\n\\n#### For the Sauce:\\n- 1 can (15 oz) crushed tomatoes (or tomato sauce)\\n- 2 cloves garlic, minced\\n- 1 tsp dried oregano\\n- 1 tsp dried basil\\n- Salt and pepper to taste\\n- A pinch of sugar (optional)\\n\\n#### Toppings (Customize as you like!)\\n- Shredded mozzarella cheese\\n- Pepperoni, vegetables, mushrooms, olives, etc.\\n\\n### Instructions\\n\\n#### 1. Make the Dough:\\n   - **Activate Yeast:** In a bowl, combine warm water, sugar, and yeast. Let it sit for about 5-10 minutes until it becomes frothy.\\n   - **Combine Ingredients:** In a large mixing bowl, combine 3 ½ cups of flour and salt. Make a well in the center and add the yeast mixture and olive oil.\\n   - **Knead the Dough:** Mix until a dough forms. If it’s too sticky, gradually add more flour. Knead the dough on a floured surface for about 6-8 minutes, until smooth and elastic.\\n   - **First Rise:** Place the dough in a greased bowl, cover it with a cloth, and let it rise in a warm place for about 1-2 hours or until it doubles in size.\\n\\n#### 2. Prepare the Sauce:\\n   - In a saucepan over medium heat, sauté the minced garlic until fragrant. Add the crushed tomatoes, oregano, basil, salt, and pepper. Simmer for about 15-20 minutes to combine flavors. Adjust seasoning to taste.\\n\\n#### 3. Preheat the Oven:\\n   - Preheat your oven to its highest setting (usually around 475°F or 245°C), and if you have a pizza stone, place it in the oven to heat up as well.\\n\\n#### 4. Shape the Pizza:\\n   - Once the dough has risen, punch it down to release air. Divide the dough into two balls for two pizzas.\\n   - On a floured surface, use a rolling pin or your hands to stretch out one ball of dough into your desired shape and thickness. Transfer it to a floured pizza peel or a baking sheet if you don’t have a pizza stone.\\n\\n#### 5. Assemble the Pizza:\\n   - Spread a layer of sauce over the dough, leaving a small border for the crust.\\n   - Sprinkle shredded mozzarella cheese on top and add your desired toppings.\\n\\n#### 6. Bake:\\n   - If using a pizza stone, carefully slide the pizza onto the hot stone. If using a baking sheet, just place it directly in the oven.\\n   - Bake for about 10-15 minutes or until the crust is golden and the cheese is bubbly and slightly browned.\\n\\n#### 7. Serve:\\n   - Remove the pizza from the oven and let it cool for a minute before slicing. Enjoy your homemade pizza with toppings of your choice!\\n\\n### Tips:\\n- Experiment with different sauces like pesto or garlic oil.\\n- Use fresh ingredients for toppings when possible.\\n- Let the pizza rest for a few minutes after baking for easier slicing.\\n\\nEnjoy your pizza-making adventure!', refusal=None, role='assistant', function_call=None, tool_calls=None))], created=1726137741, model='gpt-4o-mini-2024-07-18', object='chat.completion', service_tier=None, system_fingerprint='fp_483d39d857', usage=CompletionUsage(completion_tokens=729, prompt_tokens=14, total_tokens=743))\n"
     ]
    }
   ],
   "source": [
    "response = client.chat.completions.create(\n",
    "model=\"gpt-4o-mini\",\n",
    "    messages=[{\"role\": \"user\", \"content\": \"Tell me how to make a pizza\"}]\n",
    ")\n",
    "print(response)"
   ]
  },
  {
   "cell_type": "code",
   "execution_count": 5,
   "metadata": {},
   "outputs": [
    {
     "name": "stdout",
     "output_type": "stream",
     "text": [
      "Making a pizza from scratch can be a fun and rewarding experience! Here’s a simple step-by-step guide to making a delicious homemade pizza:\n",
      "\n",
      "### Ingredients\n",
      "\n",
      "#### For the Dough:\n",
      "- 2 ¼ tsp active dry yeast (1 packet)\n",
      "- 1 ½ cups warm water (about 110°F or 43°C)\n",
      "- 3 ½ to 4 cups all-purpose flour\n",
      "- 2 tbsp olive oil\n",
      "- 1 tsp sugar\n",
      "- 1 tsp salt\n",
      "\n",
      "#### For the Sauce:\n",
      "- 1 can (15 oz) crushed tomatoes (or tomato sauce)\n",
      "- 2 cloves garlic, minced\n",
      "- 1 tsp dried oregano\n",
      "- 1 tsp dried basil\n",
      "- Salt and pepper to taste\n",
      "- A pinch of sugar (optional)\n",
      "\n",
      "#### Toppings (Customize as you like!)\n",
      "- Shredded mozzarella cheese\n",
      "- Pepperoni, vegetables, mushrooms, olives, etc.\n",
      "\n",
      "### Instructions\n",
      "\n",
      "#### 1. Make the Dough:\n",
      "   - **Activate Yeast:** In a bowl, combine warm water, sugar, and yeast. Let it sit for about 5-10 minutes until it becomes frothy.\n",
      "   - **Combine Ingredients:** In a large mixing bowl, combine 3 ½ cups of flour and salt. Make a well in the center and add the yeast mixture and olive oil.\n",
      "   - **Knead the Dough:** Mix until a dough forms. If it’s too sticky, gradually add more flour. Knead the dough on a floured surface for about 6-8 minutes, until smooth and elastic.\n",
      "   - **First Rise:** Place the dough in a greased bowl, cover it with a cloth, and let it rise in a warm place for about 1-2 hours or until it doubles in size.\n",
      "\n",
      "#### 2. Prepare the Sauce:\n",
      "   - In a saucepan over medium heat, sauté the minced garlic until fragrant. Add the crushed tomatoes, oregano, basil, salt, and pepper. Simmer for about 15-20 minutes to combine flavors. Adjust seasoning to taste.\n",
      "\n",
      "#### 3. Preheat the Oven:\n",
      "   - Preheat your oven to its highest setting (usually around 475°F or 245°C), and if you have a pizza stone, place it in the oven to heat up as well.\n",
      "\n",
      "#### 4. Shape the Pizza:\n",
      "   - Once the dough has risen, punch it down to release air. Divide the dough into two balls for two pizzas.\n",
      "   - On a floured surface, use a rolling pin or your hands to stretch out one ball of dough into your desired shape and thickness. Transfer it to a floured pizza peel or a baking sheet if you don’t have a pizza stone.\n",
      "\n",
      "#### 5. Assemble the Pizza:\n",
      "   - Spread a layer of sauce over the dough, leaving a small border for the crust.\n",
      "   - Sprinkle shredded mozzarella cheese on top and add your desired toppings.\n",
      "\n",
      "#### 6. Bake:\n",
      "   - If using a pizza stone, carefully slide the pizza onto the hot stone. If using a baking sheet, just place it directly in the oven.\n",
      "   - Bake for about 10-15 minutes or until the crust is golden and the cheese is bubbly and slightly browned.\n",
      "\n",
      "#### 7. Serve:\n",
      "   - Remove the pizza from the oven and let it cool for a minute before slicing. Enjoy your homemade pizza with toppings of your choice!\n",
      "\n",
      "### Tips:\n",
      "- Experiment with different sauces like pesto or garlic oil.\n",
      "- Use fresh ingredients for toppings when possible.\n",
      "- Let the pizza rest for a few minutes after baking for easier slicing.\n",
      "\n",
      "Enjoy your pizza-making adventure!\n"
     ]
    }
   ],
   "source": [
    "print(response.choices[0].message.content)"
   ]
  },
  {
   "cell_type": "code",
   "execution_count": 6,
   "metadata": {},
   "outputs": [
    {
     "name": "stdout",
     "output_type": "stream",
     "text": [
      "CompletionUsage(completion_tokens=729, prompt_tokens=14, total_tokens=743)\n"
     ]
    }
   ],
   "source": [
    "print(response.usage)"
   ]
  },
  {
   "cell_type": "code",
   "execution_count": 8,
   "metadata": {},
   "outputs": [
    {
     "name": "stdout",
     "output_type": "stream",
     "text": [
      "총 소모 비용 : 0.5734771799999999 원\n"
     ]
    }
   ],
   "source": [
    "total_bill_USD = (response.usage.completion_tokens*0.0006\n",
    "+response.usage.prompt_tokens*0.00015)/1000\n",
    "# 24.01.07 기준 환율 1USD = 1304.84 KRW\n",
    "total_bill_KRW = total_bill_USD*1304.84\n",
    "print(\"총 소모 비용 : {} 원\".format(total_bill_KRW))"
   ]
  },
  {
   "cell_type": "code",
   "execution_count": 10,
   "metadata": {},
   "outputs": [
    {
     "name": "stdout",
     "output_type": "stream",
     "text": [
      "2020년 월드시리즈에서는 로스앤젤레스 다저스(Los Angeles Dodgers)가 우승했습니다. 다저스는 탬파베이 레이스(Tampa Bay Rays)를 상대로 4승 2패로 승리하며 32년 만에 월드시리즈 제목을 차지했습니다.\n"
     ]
    }
   ],
   "source": [
    "response = client.chat.completions.create (\n",
    "    model=\"gpt-4o-mini\",\n",
    "    messages=[\n",
    "        {\"role\": \"system\", \"content\": \"너는 친절하게 답변해 주는 비서야\"},\n",
    "        {\"role\": \"user\", \"content\": \"2020년 월드시리즈에서는 누가 우승했어?\"}]\n",
    ")\n",
    "print(response.choices[0].message.content)"
   ]
  },
  {
   "cell_type": "code",
   "execution_count": 3,
   "metadata": {},
   "outputs": [
    {
     "name": "stdout",
     "output_type": "stream",
     "text": [
      "The Los Angeles Dodgers won the 2020 World Series. They defeated the Tampa Bay Rays to claim the championship.\n"
     ]
    }
   ],
   "source": [
    "response = client.chat.completions.create(\n",
    "    model=\"gpt-4o-mini\",\n",
    "    messages=[\n",
    "        {\"role\": \"system\", \"content\": \"You are a chatbot that answers questions in English. This must be honored. You must only answer in English. \"},\n",
    "        {\"role\": \"user\", \"content\": \"2020년 월드시리즈에서는 누가 우승했어?\"}]\n",
    ")\n",
    "print(response.choices[0].message.content)"
   ]
  },
  {
   "cell_type": "code",
   "execution_count": 5,
   "metadata": {},
   "outputs": [
    {
     "name": "stdout",
     "output_type": "stream",
     "text": [
      "죄송합니다.\n"
     ]
    }
   ],
   "source": [
    "response = client.chat.completions.create(\n",
    "    model=\"gpt-4o-mini\",\n",
    "    messages=[\n",
    "        {\"role\": \"system\", \"content\": \"You're a chatbot that refuses to answer and says sorry when users ask questions.\"},\n",
    "        {\"role\": \"user\", \"content\": \"2020년 월드시리즈에서는 누가 우승했어?\"}]\n",
    ")\n",
    "print(response.choices[0].message.content)"
   ]
  },
  {
   "cell_type": "code",
   "execution_count": 7,
   "metadata": {},
   "outputs": [
    {
     "name": "stdout",
     "output_type": "stream",
     "text": [
      "Who won the World Series in 2020?\n"
     ]
    }
   ],
   "source": [
    "response = client.chat.completions.create(\n",
    "    model=\"gpt-4o-mini\",\n",
    "    messages=[\n",
    "        {\"role\": \"system\", \"content\": \"You are a translator who translates user input. You are a translator that translates users' inputs. If the input is in Korean, it must be translated into English. This must be strictly adhered to.\"},\n",
    "        {\"role\": \"user\", \"content\": \"2020년 월드시리즈에서는 누가 우승했어?\"}]\n",
    ")\n",
    "print(response.choices[0].message.content)"
   ]
  },
  {
   "cell_type": "code",
   "execution_count": 10,
   "metadata": {},
   "outputs": [
    {
     "name": "stdout",
     "output_type": "stream",
     "text": [
      "2002년 한일 월드컵에서 한국이 화제가 된 이유는 여러 가지가 있습니다.\n",
      "\n",
      "1. **4강 진출**: 한국은 월드컵 역사상 아시아 국가로서는 처음으로 4강에 진출했습니다. 이는 한국 축구 역사에 있어 매우 큰 이정표로, 전 세계 축구 팬들의 주목을 받았습니다. \n",
      "\n",
      "2. **극적인 경기**: 한국은 조별 리그에서 폴란드, 미국, 포르투갈을 상대로 승리하며 16강에 진출했습니다. 특히 포르투갈과의 경기에서는 1-0으로 이겼으며, 이는 포르투갈이 당시 강력한 팀이었기 때문에 놀라운 결과였습니다. 16강에서는 이탈리아를 상대로 연장전 끝에 승리를 거두었습니다. 이후 준결승에서는 독일과 맞붙었고, 이 경기에서도 여러 논란이 있었지만 독일을 상대로 0-1로 패배하며 대회에서의 여정을 마무리했습니다.\n",
      "\n",
      "3. **논란**: 한국의 경기에서 여러 판정에 대한 논란이 있었습니다. 특히 이탈리아와의 경기에서 당시 주심이었던 하니 파울(Paulo) 심판의 판정이 문제가 되면서, 한국의 승리에 대한 의문이 제기되었습니다. 이러한 논란은 한국 축구가 주목받는 데 기여했습니다.\n",
      "\n",
      "4. **국민적 열기**: 2002년 월드컵은 한국에서 큰 열기를 일으켰습니다. 거리 곳곳에서 응원전이 벌어졌고, 국민들은 붉은색 옷을 입고 함께 응원하는 등 동참했습니다. 이는 한국 사회의 단합을 보여주는 모습이기도 했습니다. \"붉은 악마\"라는 응원단체는 이 대회에서 유명해졌고, 한국의 축구 문화를 대표하는 존재가 되었습니다.\n",
      "\n",
      "5. **축구 발전의 기틀**: 이번 월드컵은 한국 축구의 발전을 촉진했으며, 이후 한국 프로축구 리그(K리그)의 발전과 청소년 축구 인프라에 긍정적인 영향을 미쳤습니다.\n",
      "\n",
      "이와 같은 여러 이유로 한국은 2002년 월드컵에서 전 세계적으로 큰 화제를 모았고, 한국 축구의 위상을 높이는 계기가 되었습니다.\n"
     ]
    }
   ],
   "source": [
    "response = client.chat.completions.create(\n",
    "    model=\"gpt-4o-mini\",\n",
    "    messages=[\n",
    "        {\"role\": \"user\", \"content\": \"2002년 월드컵에서 가장 화제가 되었던 나라는 어디야?\"},\n",
    "        {\"role\": \"assistant\", \"content\": \"바로 예상을 뚫고 4강 진출 신화를 일으킨 한국입니다.\"},\n",
    "        {\"role\": \"user\", \"content\": \"그 나라가 화제가 되었던 이유를 자세하게 설명해 줘\"}]\n",
    ")\n",
    "print(response.choices[0].message.content)"
   ]
  },
  {
   "cell_type": "code",
   "execution_count": 11,
   "metadata": {},
   "outputs": [
    {
     "name": "stdout",
     "output_type": "stream",
     "text": [
      "{\n",
      "  \"year\": 2020,\n",
      "  \"world_series_winner\": \"Los Angeles Dodgers\"\n",
      "}\n"
     ]
    }
   ],
   "source": [
    "response = client.chat.completions.create(\n",
    "    model=\"gpt-4o-mini\",\n",
    "    response_format={ \"type\": \"json_object\" },\n",
    "    messages=[\n",
    "        {\"role\": \"system\", \"content\": \"You are a helpful assistant designed to output JSON.\"},\n",
    "        {\"role\": \"user\", \"content\": \"Who won the world series in 2020?\"}]\n",
    ")\n",
    "print(response.choices[0].message.content)"
   ]
  },
  {
   "cell_type": "code",
   "execution_count": null,
   "metadata": {},
   "outputs": [],
   "source": []
  }
 ],
 "metadata": {
  "kernelspec": {
   "display_name": "ch03_env",
   "language": "python",
   "name": "python3"
  },
  "language_info": {
   "codemirror_mode": {
    "name": "ipython",
    "version": 3
   },
   "file_extension": ".py",
   "mimetype": "text/x-python",
   "name": "python",
   "nbconvert_exporter": "python",
   "pygments_lexer": "ipython3",
   "version": "3.10.4"
  }
 },
 "nbformat": 4,
 "nbformat_minor": 2
}
