{
 "cells": [
  {
   "cell_type": "code",
   "execution_count": 1,
   "metadata": {},
   "outputs": [],
   "source": [
    "import yfinance as yf"
   ]
  },
  {
   "cell_type": "code",
   "execution_count": 2,
   "metadata": {},
   "outputs": [],
   "source": [
    "tsla = yf.Ticker(\"TSLA\")"
   ]
  },
  {
   "cell_type": "code",
   "execution_count": 3,
   "metadata": {},
   "outputs": [
    {
     "name": "stdout",
     "output_type": "stream",
     "text": [
      "회사명: Tesla, Inc.\n",
      "업종: Consumer Cyclical\n",
      "사업 설명: Tesla, Inc. designs, develops, manufactures, leases, and sells electric vehicles, and energy generation and storage systems in the United States, China, and internationally. The company operates in two segments, Automotive, and Energy Generation and Storage. The Automotive segment offers electric vehicles, as well as sells automotive regulatory credits; and non-warranty after-sales vehicle, used vehicles, body shop and parts, supercharging, retail merchandise, and vehicle insurance services. This segment also provides sedans and sport utility vehicles through direct and used vehicle sales, a network of Tesla Superchargers, and in-app upgrades; purchase financing and leasing services; services for electric vehicles through its company-owned service locations and Tesla mobile service technicians; and vehicle limited warranties and extended service plans. The Energy Generation and Storage segment engages in the design, manufacture, installation, sale, and leasing of solar energy generation and energy storage products, and related services to residential, commercial, and industrial customers and utilities through its website, stores, and galleries, as well as through a network of channel partners; and provision of service and repairs to its energy product customers, including under warranty, as well as various financing options to its solar customers. The company was formerly known as Tesla Motors, Inc. and changed its name to Tesla, Inc. in February 2017. Tesla, Inc. was incorporated in 2003 and is headquartered in Austin, Texas.\n",
      "현재 가격: 227.2\n"
     ]
    }
   ],
   "source": [
    "# 기업 정보 가져오기\n",
    "info = tsla.info\n",
    "\n",
    "# 일부 중요한 정보 출력\n",
    "print(\"회사명:\", info['longName'])\n",
    "print(\"업종:\", info['sector'])\n",
    "print(\"사업 설명:\", info['longBusinessSummary'])\n",
    "print(\"현재 가격:\", info['currentPrice'])"
   ]
  },
  {
   "cell_type": "code",
   "execution_count": 4,
   "metadata": {},
   "outputs": [
    {
     "data": {
      "text/html": [
       "<div>\n",
       "<style scoped>\n",
       "    .dataframe tbody tr th:only-of-type {\n",
       "        vertical-align: middle;\n",
       "    }\n",
       "\n",
       "    .dataframe tbody tr th {\n",
       "        vertical-align: top;\n",
       "    }\n",
       "\n",
       "    .dataframe thead th {\n",
       "        text-align: right;\n",
       "    }\n",
       "</style>\n",
       "<table border=\"1\" class=\"dataframe\">\n",
       "  <thead>\n",
       "    <tr style=\"text-align: right;\">\n",
       "      <th></th>\n",
       "      <th>Open</th>\n",
       "      <th>High</th>\n",
       "      <th>Low</th>\n",
       "      <th>Close</th>\n",
       "      <th>Adj Close</th>\n",
       "      <th>Volume</th>\n",
       "      <th>Dividends</th>\n",
       "      <th>Stock Splits</th>\n",
       "    </tr>\n",
       "    <tr>\n",
       "      <th>Date</th>\n",
       "      <th></th>\n",
       "      <th></th>\n",
       "      <th></th>\n",
       "      <th></th>\n",
       "      <th></th>\n",
       "      <th></th>\n",
       "      <th></th>\n",
       "      <th></th>\n",
       "    </tr>\n",
       "  </thead>\n",
       "  <tbody>\n",
       "    <tr>\n",
       "      <th>2024-09-12 00:00:00-04:00</th>\n",
       "      <td>224.660004</td>\n",
       "      <td>231.449997</td>\n",
       "      <td>223.830002</td>\n",
       "      <td>229.809998</td>\n",
       "      <td>229.809998</td>\n",
       "      <td>72020000</td>\n",
       "      <td>0.0</td>\n",
       "      <td>0.0</td>\n",
       "    </tr>\n",
       "    <tr>\n",
       "      <th>2024-09-13 00:00:00-04:00</th>\n",
       "      <td>228.000000</td>\n",
       "      <td>232.669998</td>\n",
       "      <td>226.320007</td>\n",
       "      <td>230.289993</td>\n",
       "      <td>230.289993</td>\n",
       "      <td>59515100</td>\n",
       "      <td>0.0</td>\n",
       "      <td>0.0</td>\n",
       "    </tr>\n",
       "    <tr>\n",
       "      <th>2024-09-16 00:00:00-04:00</th>\n",
       "      <td>229.300003</td>\n",
       "      <td>229.960007</td>\n",
       "      <td>223.529999</td>\n",
       "      <td>226.779999</td>\n",
       "      <td>226.779999</td>\n",
       "      <td>54323000</td>\n",
       "      <td>0.0</td>\n",
       "      <td>0.0</td>\n",
       "    </tr>\n",
       "    <tr>\n",
       "      <th>2024-09-17 00:00:00-04:00</th>\n",
       "      <td>229.449997</td>\n",
       "      <td>234.570007</td>\n",
       "      <td>226.550003</td>\n",
       "      <td>227.869995</td>\n",
       "      <td>227.869995</td>\n",
       "      <td>66761600</td>\n",
       "      <td>0.0</td>\n",
       "      <td>0.0</td>\n",
       "    </tr>\n",
       "    <tr>\n",
       "      <th>2024-09-18 00:00:00-04:00</th>\n",
       "      <td>230.089996</td>\n",
       "      <td>235.679993</td>\n",
       "      <td>226.880005</td>\n",
       "      <td>227.199997</td>\n",
       "      <td>227.199997</td>\n",
       "      <td>77742000</td>\n",
       "      <td>0.0</td>\n",
       "      <td>0.0</td>\n",
       "    </tr>\n",
       "  </tbody>\n",
       "</table>\n",
       "</div>"
      ],
      "text/plain": [
       "                                 Open        High         Low       Close  \\\n",
       "Date                                                                        \n",
       "2024-09-12 00:00:00-04:00  224.660004  231.449997  223.830002  229.809998   \n",
       "2024-09-13 00:00:00-04:00  228.000000  232.669998  226.320007  230.289993   \n",
       "2024-09-16 00:00:00-04:00  229.300003  229.960007  223.529999  226.779999   \n",
       "2024-09-17 00:00:00-04:00  229.449997  234.570007  226.550003  227.869995   \n",
       "2024-09-18 00:00:00-04:00  230.089996  235.679993  226.880005  227.199997   \n",
       "\n",
       "                            Adj Close    Volume  Dividends  Stock Splits  \n",
       "Date                                                                      \n",
       "2024-09-12 00:00:00-04:00  229.809998  72020000        0.0           0.0  \n",
       "2024-09-13 00:00:00-04:00  230.289993  59515100        0.0           0.0  \n",
       "2024-09-16 00:00:00-04:00  226.779999  54323000        0.0           0.0  \n",
       "2024-09-17 00:00:00-04:00  227.869995  66761600        0.0           0.0  \n",
       "2024-09-18 00:00:00-04:00  227.199997  77742000        0.0           0.0  "
      ]
     },
     "execution_count": 4,
     "metadata": {},
     "output_type": "execute_result"
    }
   ],
   "source": [
    "tsla_df = tsla.history(interval='1d', period='5d', auto_adjust=False)\n",
    "tsla_df"
   ]
  },
  {
   "cell_type": "code",
   "execution_count": 5,
   "metadata": {},
   "outputs": [
    {
     "name": "stdout",
     "output_type": "stream",
     "text": [
      "Dow Jones Futures Rise After Stock Market Falls Following Big Fed Rate Cut; What To Do Now - Investor's Business Daily - https://finance.yahoo.com/m/f96bcb1a-58f3-3e8e-a98a-e014e296338b/dow-jones-futures-rise-after.html\n",
      "How interest rate cuts will impact vehicle sales, auto loans - Yahoo Finance Video - https://finance.yahoo.com/video/interest-rate-cuts-impact-vehicle-205354559.html\n",
      "These Stocks Moved the Most Today: Intuitive Machines, Super Micro, Boeing, VF Corp., ResMed, General Mills, and More - Barrons.com - https://finance.yahoo.com/m/aaa3b566-4045-387a-af16-30ef061da446/these-stocks-moved-the-most.html\n",
      "Tesla Stock Gains. What History Says Happens on Fed Day. - Barrons.com - https://finance.yahoo.com/m/cc3f7b6d-8ab7-3b33-bf34-caef7f910592/tesla-stock-gains.-what.html\n",
      "GM electric vehicles now have access to Tesla Superchargers - Yahoo Finance Video - https://finance.yahoo.com/video/gm-electric-vehicles-now-access-200745077.html\n",
      "What Investors Need To Know Ahead Of The Tesla Robotaxi Event - Investor's Business Daily - https://finance.yahoo.com/m/03c2a4cd-780d-3f1c-ab64-4c44a1687e72/what-investors-need-to-know.html\n",
      "Magnificent Seven Stocks: Nvidia Stock Slides; Apple Rallies - Investor's Business Daily - https://finance.yahoo.com/m/4205eaa9-f620-3a0b-a81a-0e82c7c9fd0b/magnificent-seven-stocks%3A.html\n",
      "AI & Space Stocks: Two Megatrends to Ride Over the Next Decade - Zacks - https://finance.yahoo.com/news/ai-space-stocks-two-megatrends-181500781.html\n"
     ]
    }
   ],
   "source": [
    "news = tsla.news\n",
    "\n",
    "# 최근 뉴스 출력\n",
    "for item in news:\n",
    "    print(item['title'], \"-\", item['publisher'], \"-\", item['link'])"
   ]
  },
  {
   "cell_type": "code",
   "execution_count": null,
   "metadata": {},
   "outputs": [],
   "source": []
  }
 ],
 "metadata": {
  "kernelspec": {
   "display_name": "ch11_env",
   "language": "python",
   "name": "python3"
  },
  "language_info": {
   "codemirror_mode": {
    "name": "ipython",
    "version": 3
   },
   "file_extension": ".py",
   "mimetype": "text/x-python",
   "name": "python",
   "nbconvert_exporter": "python",
   "pygments_lexer": "ipython3",
   "version": "3.10.4"
  }
 },
 "nbformat": 4,
 "nbformat_minor": 2
}
