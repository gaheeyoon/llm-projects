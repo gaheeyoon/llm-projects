{
 "cells": [
  {
   "cell_type": "code",
   "execution_count": 1,
   "metadata": {},
   "outputs": [],
   "source": [
    "import openai\n",
    "import yfinance as yf\n",
    "import json"
   ]
  },
  {
   "cell_type": "code",
   "execution_count": 2,
   "metadata": {},
   "outputs": [],
   "source": [
    "def get_stock_price(symbol):\n",
    "    stock = yf.Ticker(symbol)\n",
    "    price = stock.info['currentPrice']\n",
    "    return price"
   ]
  },
  {
   "cell_type": "code",
   "execution_count": 3,
   "metadata": {},
   "outputs": [],
   "source": [
    "def get_latest_company_news(symbol):\n",
    "    stock = yf.Ticker(symbol)\n",
    "    news = stock.news\n",
    "    # 최신 뉴스 3개 리스트에 저장하기\n",
    "    news_list = []\n",
    "    num =1\n",
    "    for item in news[:3]:\n",
    "        news_list.append(f\"{num}: title : \"+item['title']+\", publisher:\"+item['publisher']+\", link :\"+item['link'])\n",
    "        num+=1\n",
    "    return news_list"
   ]
  },
  {
   "cell_type": "code",
   "execution_count": 4,
   "metadata": {},
   "outputs": [],
   "source": [
    "tools_list = [\n",
    "    {\n",
    "        \"type\": \"function\",\n",
    "        \"function\": {\n",
    "            \"name\": \"get_stock_price\",\n",
    "            \"description\": \"Retrieve the latest closing price of a stock using its ticker symbol\",\n",
    "            \"parameters\": {\n",
    "                \"type\": \"object\",\n",
    "                \"properties\": {\n",
    "                    \"symbol\": {\n",
    "                        \"type\": \"string\",\n",
    "                        \"description\": \"The ticker symbol of the stock\"\n",
    "                    }\n",
    "                },\n",
    "                \"required\": [\"symbol\"]\n",
    "            }\n",
    "        }\n",
    "    },\n",
    "    {\n",
    "        \"type\": \"function\",\n",
    "        \"function\": {\n",
    "            \"name\": \"get_latest_company_news\",\n",
    "            \"description\": \"Fetches the latest news articles related to a specified company\",\n",
    "            \"parameters\": {\n",
    "                \"type\": \"object\",\n",
    "                \"properties\": {\n",
    "                    \"symbol\": {\n",
    "                        \"type\": \"string\",\n",
    "                        \"description\": \"The ticker symbol of the stock\"\n",
    "                    }\n",
    "                },\n",
    "                \"required\": [\"symbol\"]\n",
    "            }\n",
    "        }\n",
    "    }\n",
    "]"
   ]
  },
  {
   "cell_type": "code",
   "execution_count": 5,
   "metadata": {},
   "outputs": [],
   "source": [
    "client = openai.OpenAI(api_key = \"여기에 API 키를 넣어주세요\")"
   ]
  },
  {
   "cell_type": "code",
   "execution_count": 6,
   "metadata": {},
   "outputs": [],
   "source": [
    "instruction = '''\n",
    "너는 주식 분석 전문가야\n",
    "\n",
    "규칙:\n",
    "1. 사용자가 회사 또는 종목에 대해 물어보면, function을 활용해서 회사의 주식 가격과 최신 뉴스를 답해줘.\n",
    "2. 모든 답변은 한국어로 해줘.\n",
    "'''\n",
    "\n",
    "# Add the file to the assistant\n",
    "assistant = client.beta.assistants.create(\n",
    "    name = \"Company Stock Analyst\",\n",
    "    instructions=instruction,\n",
    "    model=\"gpt-3.5-turbo\",\n",
    "    tools=tools_list,\n",
    ")"
   ]
  },
  {
   "cell_type": "code",
   "execution_count": 7,
   "metadata": {},
   "outputs": [],
   "source": [
    "thread = client.beta.threads.create()"
   ]
  },
  {
   "cell_type": "code",
   "execution_count": 8,
   "metadata": {},
   "outputs": [],
   "source": [
    "message = client.beta.threads.messages.create(\n",
    "    thread_id=thread.id,\n",
    "    role=\"user\",\n",
    "    content=\"테슬라의 최근 주가와 최신 뉴스에 대해 알려줘\"\n",
    ")"
   ]
  },
  {
   "cell_type": "code",
   "execution_count": 9,
   "metadata": {},
   "outputs": [],
   "source": [
    "run = client.beta.threads.runs.create(\n",
    "    thread_id=thread.id,\n",
    "    assistant_id=assistant.id\n",
    ")"
   ]
  },
  {
   "cell_type": "code",
   "execution_count": 10,
   "metadata": {},
   "outputs": [
    {
     "name": "stdout",
     "output_type": "stream",
     "text": [
      "requires_action\n",
      "requires_action\n"
     ]
    }
   ],
   "source": [
    "import time\n",
    "\n",
    "while run.status not in [\"completed\", \"failed\", \"requires_action\"]:\n",
    "    run = client.beta.threads.runs.retrieve(\n",
    "        thread_id= thread.id,\n",
    "        run_id= run.id\n",
    "    )\n",
    "    print(run.status)\n",
    "    time.sleep(5)\n",
    "\n",
    "print(run.status)"
   ]
  },
  {
   "cell_type": "code",
   "execution_count": 11,
   "metadata": {},
   "outputs": [
    {
     "name": "stdout",
     "output_type": "stream",
     "text": [
      "필요 호출 개수:  2\n",
      "[RequiredActionFunctionToolCall(id='call_pYwZ8cBcozpeHrfWOw1jrhWF', function=Function(arguments='{\"symbol\": \"TSLA\"}', name='get_stock_price'), type='function'), RequiredActionFunctionToolCall(id='call_Iqyu7BqeSnjAhG6BRomlS0HK', function=Function(arguments='{\"symbol\": \"TSLA\"}', name='get_latest_company_news'), type='function')]\n"
     ]
    }
   ],
   "source": [
    "tools_to_call = run.required_action.submit_tool_outputs.tool_calls\n",
    "print(\"필요 호출 개수: \", len(tools_to_call))\n",
    "print(tools_to_call)"
   ]
  },
  {
   "cell_type": "code",
   "execution_count": 12,
   "metadata": {},
   "outputs": [
    {
     "name": "stdout",
     "output_type": "stream",
     "text": [
      "get_stock_price\n",
      "{\"symbol\": \"TSLA\"}\n",
      "get_latest_company_news\n",
      "{\"symbol\": \"TSLA\"}\n"
     ]
    }
   ],
   "source": [
    "print(tools_to_call[0].function.name)\n",
    "print(tools_to_call[0].function.arguments)\n",
    "print(tools_to_call[1].function.name)\n",
    "print(tools_to_call[1].function.arguments)"
   ]
  },
  {
   "cell_type": "code",
   "execution_count": 13,
   "metadata": {},
   "outputs": [
    {
     "name": "stdout",
     "output_type": "stream",
     "text": [
      "[{'tool_call_id': 'call_pYwZ8cBcozpeHrfWOw1jrhWF', 'output': '227.2'}, {'tool_call_id': 'call_Iqyu7BqeSnjAhG6BRomlS0HK', 'output': '[\"1: title : Dow Jones Futures Rise After Stock Market Falls Following Big Fed Rate Cut; What To Do Now, publisher:Investor\\'s Business Daily, link :https://finance.yahoo.com/m/f96bcb1a-58f3-3e8e-a98a-e014e296338b/dow-jones-futures-rise-after.html\", \"2: title : How interest rate cuts will impact vehicle sales, auto loans, publisher:Yahoo Finance Video, link :https://finance.yahoo.com/video/interest-rate-cuts-impact-vehicle-205354559.html\", \"3: title : These Stocks Moved the Most Today: Intuitive Machines, Super Micro, Boeing, VF Corp., ResMed, General Mills, and More, publisher:Barrons.com, link :https://finance.yahoo.com/m/aaa3b566-4045-387a-af16-30ef061da446/these-stocks-moved-the-most.html\"]'}]\n"
     ]
    }
   ],
   "source": [
    "tools_output_array = []\n",
    "for each_tool in tools_to_call:\n",
    "    tool_call_id = each_tool.id\n",
    "    function_name = each_tool.function.name\n",
    "    function_arg = each_tool.function.arguments\n",
    "    # Json 포매팅\n",
    "    function_arg = json.loads(each_tool.function.arguments)\n",
    "    if (function_name == 'get_stock_price'):\n",
    "        ## Custom 함수 생성 ##\n",
    "        output=get_stock_price(function_arg[\"symbol\"])\n",
    "    if (function_name == 'get_latest_company_news'):\n",
    "        ## Custom 함수 생성 ##\n",
    "        output=get_latest_company_news(function_arg[\"symbol\"])\n",
    "    tools_output_array.append({\"tool_call_id\": tool_call_id, \"output\":\n",
    "json.dumps(output)})\n",
    "\n",
    "print(tools_output_array)"
   ]
  },
  {
   "cell_type": "code",
   "execution_count": 14,
   "metadata": {},
   "outputs": [],
   "source": [
    "run = client.beta.threads.runs.submit_tool_outputs(\n",
    "    thread_id = thread.id,\n",
    "    run_id = run.id,\n",
    "    tool_outputs=tools_output_array\n",
    ")"
   ]
  },
  {
   "cell_type": "code",
   "execution_count": 15,
   "metadata": {},
   "outputs": [
    {
     "name": "stdout",
     "output_type": "stream",
     "text": [
      "completed\n"
     ]
    }
   ],
   "source": [
    "while run.status not in [\"completed\", \"failed\", \"requires_action\"]:\n",
    "    run = client.beta.threads.runs.retrieve(\n",
    "        thread_id = thread.id,\n",
    "        run_id = run.id\n",
    "    )\n",
    "    print(run.status)\n",
    "    time.sleep(5)"
   ]
  },
  {
   "cell_type": "code",
   "execution_count": 16,
   "metadata": {},
   "outputs": [
    {
     "name": "stdout",
     "output_type": "stream",
     "text": [
      "assistant: 테슬라(TSLA)의 최근 주가는 227.2달러입니다.\n",
      "\n",
      "최신 뉴스:\n",
      "1. 제목: 다우 존스 선물이 대형 연준 금리 인하 이후 주가 하락 후 상승; 지금 어떻게 해야 할까?, 발행사: Investor's Business Daily, 링크: [기사 링크](https://finance.yahoo.com/m/f96bcb1a-58f3-3e8e-a98a-e014e296338b/dow-jones-futures-rise-after.html)\n",
      "2. 제목: 금리 인하가 차량 판매, 자동차 대출에 미치는 영향, 발행사: Yahoo Finance Video, 링크: [기사 링크](https://finance.yahoo.com/video/interest-rate-cuts-impact-vehicle-205354559.html)\n",
      "3. 제목: 오늘 주식 시장에서 가장 많이 움직인 종목: Intuitive Machines, Super Micro, Boeing, VF Corp., ResMed, General Mills 등, 발행사: Barrons.com, 링크: [기사 링크](https://finance.yahoo.com/m/aaa3b566-4045-387a-af16-30ef061da446/these-stocks-moved-the-most.html)\n",
      "=========\n",
      "user: 테슬라의 최근 주가와 최신 뉴스에 대해 알려줘\n",
      "=========\n"
     ]
    }
   ],
   "source": [
    "# 메시지 리스트 가져오기\n",
    "messages = client.beta.threads.messages.list(\n",
    "    thread_id=thread.id\n",
    ")\n",
    "\n",
    "# 메시지 출력\n",
    "for each in messages:\n",
    "    print(each.role + \": \"+each.content[0].text.value)\n",
    "    print(\"=========\")"
   ]
  },
  {
   "cell_type": "code",
   "execution_count": null,
   "metadata": {},
   "outputs": [],
   "source": []
  }
 ],
 "metadata": {
  "kernelspec": {
   "display_name": "ch11_env",
   "language": "python",
   "name": "python3"
  },
  "language_info": {
   "codemirror_mode": {
    "name": "ipython",
    "version": 3
   },
   "file_extension": ".py",
   "mimetype": "text/x-python",
   "name": "python",
   "nbconvert_exporter": "python",
   "pygments_lexer": "ipython3",
   "version": "3.10.4"
  }
 },
 "nbformat": 4,
 "nbformat_minor": 2
}
