{
 "cells": [
  {
   "cell_type": "code",
   "execution_count": 30,
   "metadata": {},
   "outputs": [],
   "source": [
    "import openai"
   ]
  },
  {
   "cell_type": "code",
   "execution_count": 31,
   "metadata": {},
   "outputs": [],
   "source": [
    "client = openai.OpenAI(api_key = \"여기에 API 키를 넣어주세요\")"
   ]
  },
  {
   "cell_type": "code",
   "execution_count": 32,
   "metadata": {},
   "outputs": [],
   "source": [
    "vector_store = client.beta.vector_stores.create(name=\"축구 규칙 파일\")"
   ]
  },
  {
   "cell_type": "code",
   "execution_count": 33,
   "metadata": {},
   "outputs": [
    {
     "name": "stdout",
     "output_type": "stream",
     "text": [
      "completed\n",
      "FileCounts(cancelled=0, completed=1, failed=0, in_progress=0, total=1)\n"
     ]
    }
   ],
   "source": [
    "file_streams = open(\"축구규칙정리.pdf\", \"rb\")\n",
    "\n",
    "file_batch = client.beta.vector_stores.file_batches.upload_and_poll(\n",
    "    vector_store_id=vector_store.id, files=[file_streams]\n",
    ")\n",
    "print(file_batch.status)\n",
    "print(file_batch.file_counts)"
   ]
  },
  {
   "cell_type": "code",
   "execution_count": 34,
   "metadata": {},
   "outputs": [
    {
     "name": "stdout",
     "output_type": "stream",
     "text": [
      "asst_TAVMrWBHr6j5jU95OdJBnM7G\n"
     ]
    }
   ],
   "source": [
    "instruction = '''\n",
    "[목적]\n",
    "이 GPT는 축구 규칙을 상세히 설명해주는 챗봇입니다.\n",
    "\n",
    "[규칙]\n",
    "1. 사용자가 축구 규칙에 대해 질문하면 업로드된 파일에서 해당 내용을 찾아 자세히 답변합니다.\n",
    "2. 파일안에서 마땅한 답을 찾을 수 없거나 축구 규칙에 관한 질문이 아니면 \"축구 규칙에 관한 질문만 부탁해요^^\" 라고 답해주세요.\n",
    "3. 답변의 형태는 아래 예시와 같이 해주세요\n",
    "예시)\n",
    "- 질문 : 질문 내용\n",
    "- 답변 : 답변 내용\n",
    "4. 모든 질문에 한국어로 답변해주세요.\n",
    "'''\n",
    "assistant = client.beta.assistants.create(\n",
    "    name = \"축구 규칙 설명 챗봇\",\n",
    "    instructions=instruction,\n",
    "    model=\"gpt-3.5-turbo-1106\",\n",
    "    tools=[{\"type\" : \"file_search\"}],\n",
    "    tool_resources={\"file_search\": {\"vector_store_ids\": [vector_store.id]}}\n",
    ")\n",
    "\n",
    "print(assistant.id)"
   ]
  },
  {
   "cell_type": "code",
   "execution_count": 35,
   "metadata": {},
   "outputs": [
    {
     "name": "stdout",
     "output_type": "stream",
     "text": [
      "[Assistant(id='asst_TAVMrWBHr6j5jU95OdJBnM7G', created_at=1726722149, description=None, instructions='\\n[목적]\\n이 GPT는 축구 규칙을 상세히 설명해주는 챗봇입니다.\\n\\n[규칙]\\n1. 사용자가 축구 규칙에 대해 질문하면 업로드된 파일에서 해당 내용을 찾아 자세히 답변합니다.\\n2. 파일안에서 마땅한 답을 찾을 수 없거나 축구 규칙에 관한 질문이 아니면 \"축구 규칙에 관한 질문만 부탁해요^^\" 라고 답해주세요.\\n3. 답변의 형태는 아래 예시와 같이 해주세요\\n예시)\\n- 질문 : 질문 내용\\n- 답변 : 답변 내용\\n4. 모든 질문에 한국어로 답변해주세요.\\n', metadata={}, model='gpt-3.5-turbo-1106', name='축구 규칙 설명 챗봇', object='assistant', tools=[FileSearchTool(type='file_search', file_search=FileSearch(max_num_results=None, ranking_options=FileSearchRankingOptions(score_threshold=0.0, ranker='default_2024_08_21')))], response_format='auto', temperature=1.0, tool_resources=ToolResources(code_interpreter=None, file_search=ToolResourcesFileSearch(vector_store_ids=['vs_w8o8VJZpKY0QRsk7Go23Pf5t'])), top_p=1.0), Assistant(id='asst_wXxbbHGtQUNS9honhW1WR4m3', created_at=1726715950, description=None, instructions='\\n[목적]\\n이 GPT는 축구 규칙을 상세히 설명해주는 챗봇입니다.\\n\\n[규칙]\\n1. 사용자가 축구 규칙에 대해 질문하면 업로드된 파일에서 해당 내용을 찾아 자세히 답변합니다.\\n2. 파일안에서 마땅한 답을 찾을 수 없거나 축구 규칙에 관한 질문이 아니면 \"축구 규칙에 관한 질문만 부탁해요^^\" 라고 답해주세요.\\n3. 답변의 형태는 아래 예시와 같이 해주세요\\n예시)\\n- 질문 : 질문 내용\\n- 답변 : 답변 내용\\n4. 모든 질문에 한국어로 답변해주세요.\\n', metadata={}, model='gpt-3.5-turbo-1106', name='축구 규칙 설명 챗봇', object='assistant', tools=[FileSearchTool(type='file_search', file_search=FileSearch(max_num_results=None, ranking_options=FileSearchRankingOptions(score_threshold=0.0, ranker='default_2024_08_21')))], response_format='auto', temperature=1.0, tool_resources=ToolResources(code_interpreter=None, file_search=ToolResourcesFileSearch(vector_store_ids=['vs_9Pty69sSn3BKCkGfzjm36Hoy'])), top_p=1.0)]\n"
     ]
    }
   ],
   "source": [
    "my_assistants = client.beta.assistants.list(\n",
    "    order=\"desc\",\n",
    "    limit=\"20\",\n",
    ")\n",
    "print(my_assistants.data)"
   ]
  },
  {
   "cell_type": "code",
   "execution_count": 36,
   "metadata": {},
   "outputs": [],
   "source": [
    "assistant = client.beta.assistants.retrieve(\"assistant ID\")"
   ]
  },
  {
   "cell_type": "code",
   "execution_count": 37,
   "metadata": {},
   "outputs": [
    {
     "name": "stdout",
     "output_type": "stream",
     "text": [
      "Thread(id='thread_1WJ24V3EmMSwPwfLNzXUBpKN', created_at=1726722166, metadata={}, object='thread', tool_resources=ToolResources(code_interpreter=None, file_search=None))\n"
     ]
    }
   ],
   "source": [
    "thread = client.beta.threads.create()\n",
    "print(thread)"
   ]
  },
  {
   "cell_type": "code",
   "execution_count": 38,
   "metadata": {},
   "outputs": [
    {
     "name": "stdout",
     "output_type": "stream",
     "text": [
      "Message(id='msg_T9Vn3yuUEAcphovieUL5dkXJ', assistant_id=None, attachments=[], completed_at=None, content=[TextContentBlock(text=Text(annotations=[], value='축구장의 크기는?'), type='text')], created_at=1726722174, incomplete_at=None, incomplete_details=None, metadata={}, object='thread.message', role='user', run_id=None, status=None, thread_id='thread_1WJ24V3EmMSwPwfLNzXUBpKN')\n"
     ]
    }
   ],
   "source": [
    "message = client.beta.threads.messages.create(\n",
    "    thread_id=thread.id,\n",
    "    role=\"user\",\n",
    "    content=\"축구장의 크기는?\"\n",
    ")\n",
    "print(message)"
   ]
  },
  {
   "cell_type": "code",
   "execution_count": 39,
   "metadata": {},
   "outputs": [],
   "source": [
    "run = client.beta.threads.runs.create(\n",
    "    thread_id=thread.id,\n",
    "    assistant_id=assistant.id\n",
    ")"
   ]
  },
  {
   "cell_type": "code",
   "execution_count": 40,
   "metadata": {},
   "outputs": [
    {
     "name": "stdout",
     "output_type": "stream",
     "text": [
      "in_progress\n",
      "completed\n"
     ]
    }
   ],
   "source": [
    "import time\n",
    "\n",
    "while run.status not in [\"completed\", \"failed\"]:\n",
    "    run = client.beta.threads.runs.retrieve(\n",
    "        thread_id= thread.id,\n",
    "        run_id= run.id\n",
    "    )\n",
    "    print(run.status)\n",
    "    time.sleep(5)"
   ]
  },
  {
   "cell_type": "code",
   "execution_count": 41,
   "metadata": {},
   "outputs": [],
   "source": [
    "messages = client.beta.threads.messages.list(\n",
    "    thread_id=thread.id\n",
    ")"
   ]
  },
  {
   "cell_type": "code",
   "execution_count": 42,
   "metadata": {},
   "outputs": [
    {
     "name": "stdout",
     "output_type": "stream",
     "text": [
      "assistant: 축구장의 크기는 다음과 같습니다.\n",
      "\n",
      "- 터치라인의 길이: 최소 90m (100 야드) ~ 최대 120m (130 야드)\n",
      "- 골라인의 길이: 최소 45m (50 야드) ~ 최대 90m (100 야드)\n",
      "- 국제경기를 위한 터치라인의 길이: 최소 100m (110 야드) ~ 최대 110m (120 야드)\n",
      "- 국제경기를 위한 골라인의 길이: 최소 64m (70 야드) ~ 최대 75m (80 야드) \n",
      "\n",
      "이 정보는 \"축구규칙정리.pdf\" 파일에서 찾아낸 것입니다.    \n",
      "=========\n",
      "user: 축구장의 크기는?\n",
      "=========\n"
     ]
    }
   ],
   "source": [
    "for each in messages:\n",
    "    print(each.role + \": \"+each.content[0].text.value)\n",
    "    print(\"=========\")"
   ]
  },
  {
   "cell_type": "code",
   "execution_count": 43,
   "metadata": {},
   "outputs": [
    {
     "name": "stdout",
     "output_type": "stream",
     "text": [
      "user: 오프사이드 룰에 대해 설명해줘\n",
      "=========\n",
      "assistant: 축구장의 크기는 다음과 같습니다.\n",
      "\n",
      "- 터치라인의 길이: 최소 90m (100 야드) ~ 최대 120m (130 야드)\n",
      "- 골라인의 길이: 최소 45m (50 야드) ~ 최대 90m (100 야드)\n",
      "- 국제경기를 위한 터치라인의 길이: 최소 100m (110 야드) ~ 최대 110m (120 야드)\n",
      "- 국제경기를 위한 골라인의 길이: 최소 64m (70 야드) ~ 최대 75m (80 야드) \n",
      "\n",
      "이 정보는 \"축구규칙정리.pdf\" 파일에서 찾아낸 것입니다.    \n",
      "=========\n",
      "user: 축구장의 크기는?\n",
      "=========\n"
     ]
    }
   ],
   "source": [
    "# 메시지 추가\n",
    "message = client.beta.threads.messages.create(\n",
    "    thread_id=thread.id,\n",
    "    role=\"user\",\n",
    "    content=\"오프사이드 룰에 대해 설명해줘\"\n",
    ")\n",
    "\n",
    "# 메시지 리스트 가져오기\n",
    "messages = client.beta.threads.messages.list(\n",
    "    thread_id=thread.id\n",
    ")\n",
    "\n",
    "# 메시지 프린트\n",
    "for each in messages:\n",
    "    print(each.role + \": \"+each.content[0].text.value)\n",
    "    print(\"=========\")"
   ]
  },
  {
   "cell_type": "code",
   "execution_count": 44,
   "metadata": {},
   "outputs": [
    {
     "name": "stdout",
     "output_type": "stream",
     "text": [
      "in_progress\n",
      "completed\n"
     ]
    }
   ],
   "source": [
    "run = client.beta.threads.runs.create(\n",
    "    thread_id=thread.id,\n",
    "    assistant_id=assistant.id,\n",
    ")\n",
    "\n",
    "while run.status not in [\"completed\", \"failed\"]:\n",
    "    \n",
    "    run = client.beta.threads.runs.retrieve(\n",
    "        thread_id= thread.id,\n",
    "        run_id= run.id\n",
    "    )\n",
    "\n",
    "    print(run.status)\n",
    "    \n",
    "    time.sleep(5)"
   ]
  },
  {
   "cell_type": "code",
   "execution_count": 45,
   "metadata": {},
   "outputs": [
    {
     "name": "stdout",
     "output_type": "stream",
     "text": [
      "assistant: 오프사이드 규칙에 대해 설명해드리겠습니다. 축구에서 오프사이드는 상대방 골지역에 더 많은 선수를 두는 것을 막기 위한 규칙입니다. 공격 선수가 볼을 받을 때 골 지역에 더 많은 수비수가 있거나, 공격 선수가 볼을 받을 때 이미 골 지역 안에 있을 때 더 많은 수비수를 가로막는 경우에 오프사이드가 선언됩니다. 따라서, 선수는 상대방의 수비수보다 공격선수가 더 떨어져 있어야 합니다. 오프사이드를 위반한 경우 해당 팀은 프리킥을 얻게 됩니다. 선수들의 위치에 따라 다양한 상황에서 오프사이드가 적용될 수 있습니다.\n",
      "\n",
      "이 정보는 \"축구규칙정리.pdf\" 파일에서 찾은 내용입니다.【0:오프사이드 규칙】\n",
      "=========\n",
      "user: 오프사이드 룰에 대해 설명해줘\n",
      "=========\n",
      "assistant: 축구장의 크기는 다음과 같습니다.\n",
      "\n",
      "- 터치라인의 길이: 최소 90m (100 야드) ~ 최대 120m (130 야드)\n",
      "- 골라인의 길이: 최소 45m (50 야드) ~ 최대 90m (100 야드)\n",
      "- 국제경기를 위한 터치라인의 길이: 최소 100m (110 야드) ~ 최대 110m (120 야드)\n",
      "- 국제경기를 위한 골라인의 길이: 최소 64m (70 야드) ~ 최대 75m (80 야드) \n",
      "\n",
      "이 정보는 \"축구규칙정리.pdf\" 파일에서 찾아낸 것입니다.    \n",
      "=========\n",
      "user: 축구장의 크기는?\n",
      "=========\n"
     ]
    }
   ],
   "source": [
    "# 메시지 리스트 가져오기\n",
    "messages = client.beta.threads.messages.list(\n",
    "    thread_id=thread.id\n",
    ")\n",
    "\n",
    "# 메시지 프린트\n",
    "for each in messages:\n",
    "    print(each.role + \": \"+each.content[0].text.value)\n",
    "    print(\"=========\")"
   ]
  },
  {
   "cell_type": "code",
   "execution_count": 46,
   "metadata": {},
   "outputs": [
    {
     "name": "stdout",
     "output_type": "stream",
     "text": [
      "AssistantDeleted(id='asst_TAVMrWBHr6j5jU95OdJBnM7G', deleted=True, object='assistant.deleted')\n"
     ]
    }
   ],
   "source": [
    "# assistant 삭제\n",
    "response = client.beta.assistants.delete(assistant.id)\n",
    "print(response)"
   ]
  },
  {
   "cell_type": "code",
   "execution_count": 47,
   "metadata": {},
   "outputs": [
    {
     "name": "stdout",
     "output_type": "stream",
     "text": [
      "SyncPage[FileObject](data=[FileObject(id='file-gzVClBMqxYQNDDm9nN1a10dJ', bytes=22073717, created_at=1726722142, filename='축구규칙정리.pdf', object='file', purpose='assistants', status='processed', status_details=None), FileObject(id='file-AUsCAwXwXGQ9VQzciCq96nJP', bytes=22073717, created_at=1726715000, filename='축구규칙정리.pdf', object='file', purpose='assistants', status='processed', status_details=None)], object='list', has_more=False)\n"
     ]
    }
   ],
   "source": [
    "# 업로드한 파일 목록 가져오기\n",
    "file_list = client.files.list()\n",
    "print(file_list)"
   ]
  },
  {
   "cell_type": "code",
   "execution_count": 48,
   "metadata": {},
   "outputs": [
    {
     "name": "stdout",
     "output_type": "stream",
     "text": [
      "file-gzVClBMqxYQNDDm9nN1a10dJ\n"
     ]
    }
   ],
   "source": [
    "# 특정 파일 ID 가져오기\n",
    "file_id = file_list.data[0].id\n",
    "print(file_id)"
   ]
  },
  {
   "cell_type": "code",
   "execution_count": 49,
   "metadata": {},
   "outputs": [
    {
     "name": "stdout",
     "output_type": "stream",
     "text": [
      "FileDeleted(id='file-gzVClBMqxYQNDDm9nN1a10dJ', deleted=True, object='file')\n"
     ]
    }
   ],
   "source": [
    "# 업로드 파일 삭제\n",
    "response = client.files.delete(file_id)\n",
    "print(response)"
   ]
  },
  {
   "cell_type": "code",
   "execution_count": null,
   "metadata": {},
   "outputs": [],
   "source": []
  }
 ],
 "metadata": {
  "kernelspec": {
   "display_name": "ch11_env",
   "language": "python",
   "name": "python3"
  },
  "language_info": {
   "codemirror_mode": {
    "name": "ipython",
    "version": 3
   },
   "file_extension": ".py",
   "mimetype": "text/x-python",
   "name": "python",
   "nbconvert_exporter": "python",
   "pygments_lexer": "ipython3",
   "version": "3.10.4"
  }
 },
 "nbformat": 4,
 "nbformat_minor": 2
}
