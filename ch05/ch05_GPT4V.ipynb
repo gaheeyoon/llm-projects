{
 "cells": [
  {
   "cell_type": "code",
   "execution_count": 1,
   "metadata": {},
   "outputs": [],
   "source": [
    "from openai import OpenAI"
   ]
  },
  {
   "cell_type": "code",
   "execution_count": 2,
   "metadata": {},
   "outputs": [],
   "source": [
    "client = OpenAI(api_key=\"여기에 API 키를 넣어주세요\")"
   ]
  },
  {
   "cell_type": "code",
   "execution_count": 5,
   "metadata": {},
   "outputs": [
    {
     "name": "stdout",
     "output_type": "stream",
     "text": [
      "ChatCompletion(id='chatcmpl-A7ZomrH4HTek2zk22yH9NLwmSgSoZ', choices=[Choice(finish_reason='stop', index=0, logprobs=None, message=ChatCompletionMessage(content='이 이미지는 아름다운 자연 경관을 보여줍니다. 사진 중앙에는 나무로 만들어진 길이 놓여있으며, 이 길은 풍부한 녹색의 잔디 밭을 지나 평화로운 자연 속으로 이어집니다. 주변의 풍경은 키 높은 풀과 덤불이 뒤섞여 있어 자연의 소박함과 풍부함을 잘 드러내고 있습니다. 하늘은 맑고 푸른 색을 띠며, 구름이 흩어져 있어 넓고 개방된 느낌을 줍니다. 이러한 요소들이 조화롭게 어우러져 평온하고 명상적인 분위기를 자아냅니다. 이 사진은 외부 세계의 소란함으로부터 벗어나 자연에서 평화를 찾고자 하는 사람들에게 큰 매력을 줄 것입니다.', refusal=None, role='assistant', function_call=None, tool_calls=None))], created=1726369344, model='gpt-4-turbo-2024-04-09', object='chat.completion', service_tier=None, system_fingerprint='fp_9251f45daf', usage=CompletionUsage(completion_tokens=290, prompt_tokens=1123, total_tokens=1413, completion_tokens_details=CompletionTokensDetails(reasoning_tokens=0)))\n"
     ]
    }
   ],
   "source": [
    "response = client.chat.completions.create(\n",
    "    model=\"gpt-4-turbo\",\n",
    "    messages=[\n",
    "        {\n",
    "            \"role\": \"user\",\n",
    "            \"content\": [\n",
    "                {\"type\" : \"text\", \"text\": \"이 이미지에 대해서 설명해줘\"},\n",
    "                {\n",
    "                    \"type\": \"image_url\",\n",
    "                    \"image_url\": {\n",
    "                        \"url\":\"https://upload.wikimedia.org/wikipedia/commons/thumb/d/dd/Gfp-wisconsin-madison-the-nature-boardwalk.jpg/2560px-Gfp-wisconsin-madison-thenature-boardwalk.jpg\",\n",
    "                    },\n",
    "                },\n",
    "            ],\n",
    "        }\n",
    "    ],\n",
    "    max_tokens=300,\n",
    ")\n",
    "print(response)"
   ]
  },
  {
   "cell_type": "code",
   "execution_count": 6,
   "metadata": {},
   "outputs": [
    {
     "name": "stdout",
     "output_type": "stream",
     "text": [
      "이 이미지는 아름다운 자연 경관을 보여줍니다. 사진 중앙에는 나무로 만들어진 길이 놓여있으며, 이 길은 풍부한 녹색의 잔디 밭을 지나 평화로운 자연 속으로 이어집니다. 주변의 풍경은 키 높은 풀과 덤불이 뒤섞여 있어 자연의 소박함과 풍부함을 잘 드러내고 있습니다. 하늘은 맑고 푸른 색을 띠며, 구름이 흩어져 있어 넓고 개방된 느낌을 줍니다. 이러한 요소들이 조화롭게 어우러져 평온하고 명상적인 분위기를 자아냅니다. 이 사진은 외부 세계의 소란함으로부터 벗어나 자연에서 평화를 찾고자 하는 사람들에게 큰 매력을 줄 것입니다.\n"
     ]
    }
   ],
   "source": [
    "print(response.choices[0].message.content)"
   ]
  },
  {
   "cell_type": "code",
   "execution_count": null,
   "metadata": {},
   "outputs": [],
   "source": []
  }
 ],
 "metadata": {
  "kernelspec": {
   "display_name": "py_env",
   "language": "python",
   "name": "python3"
  },
  "language_info": {
   "codemirror_mode": {
    "name": "ipython",
    "version": 3
   },
   "file_extension": ".py",
   "mimetype": "text/x-python",
   "name": "python",
   "nbconvert_exporter": "python",
   "pygments_lexer": "ipython3",
   "version": "3.10.4"
  }
 },
 "nbformat": 4,
 "nbformat_minor": 2
}
